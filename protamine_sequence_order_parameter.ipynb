{
 "cells": [
  {
   "cell_type": "code",
   "execution_count": 1,
   "metadata": {},
   "outputs": [
    {
     "name": "stdout",
     "output_type": "stream",
     "text": [
      "#####################################\n",
      "#            Alignments             #\n",
      "#                                   #\n",
      "# Conserved positions marked with * #\n",
      "#####################################\n",
      "Eutherian P1 Sperm Protamines\n",
      "                         10         20         30         40         50         60\n",
      "                 *    **          *            *        **           **          *     \n",
      "HSP1_CAPHI       MARYRCCLTH --SRSRCR-R ---RRRRRCR -RRRRRFGRR --RRR-RVCC RRY--TVVRC TRQ- \n",
      "HSP1_SHEEP       MARYRCCLTH --SRSRCR-R ---RRRRRCR -RRRRRFGRR --RRR-RVCC RRY--TVVRC TRQ- \n",
      "HSP1_BOVIN       MARYRCCLTH --SGSRCR-R ---RRRRRCR -RRRRRFGRR --RRR-RVCC RRY--TVIRC TRQ- \n",
      "HSP1_PIG         MARYRCCRSH --SRSRCR-P ---R-RRRCR -RRRRRCCPR --RRR-AVCC RRY--TVIRC RRC- \n",
      "HSP1_HORSE       MARYRCCRSQ --SQSRCR-R ---RRRRRCR -RRRRRSVRQ --RR---VCC RRY--TVLRC RRRR \n",
      "HSP1_ORCOR       MARNR-CRSP --SQSRCR-R ---P-RRRCR --RRIRCCRR --QR--RVCC RRY--TTTRC ARQ- \n",
      "HSP1_MOUSE       MARYRCCRSK --SRSRCR-R ---R-RRRCR -RRRRRCCRR --RR--RRCC RRRRSYTIRC KKY- \n",
      "HSP1_RAT         MARYRCCRSK --SRSRCR-R ---R-RRRCR -RRRRRCCRR --RR--RRCC RRRRSYTFRC KRY- \n",
      "HSP1_HUMAN       MARYRCCRSQ --SRSRYY-R ---Q-RQRSR -RRRRRSCQT --RRRAMRCC RPR--YRPRC RRH- \n",
      "HSP1_GORGO       MARYRCCRSQ --SRSRCY-R ---Q-RQTSR -RRRRRSCQT --QRRAMRCC RRR--NRLRR RKH- \n",
      "\n",
      "Eutherian P2 Sperm Protamines\n",
      "                         10         20         30         40         50         60         70\n",
      "                 *  *          *    *       *        *          *  **     **    *         *   \n",
      "PRM2_RATTU       MVRYRMRSPS ESPHQGPGQD HESEEQG--- -QGQELNPER VEDYGRTHRG --HHRHRRCS RKRLHRIHKR \n",
      "PRM2_MOUSE       MVRYRMRSPS EGPHQGPGQD HEREEQG--- -QGQGLSPER VEDYGRTHRG HHHHRHRRCS RKRLHRIHKR \n",
      "PRM2_RATFU       MVRYRMRSPS EGPHQGPGQD HEREEQG--- -QGQELSPER VEDYGRTHRG --HHRHRRCS RKRLHRIHKR \n",
      "PRM2_ALOSE       MVRYHVRSPS ERPHREYRQL VNGQEQGRHG QEEQGMSAEG VEGYGRTHQG CYGYRRRLCS RRRLYRVHRR \n",
      "PRM2_CALJA       MVRYRVRSPS ERPHEEYRQL VNWQEQGRNG QEEQGLSAEG GEVYGRTHQG YSSYRRRRCS RRRRYRIHRR \n",
      "PRM2_SEMEN       MVRYRMRSLS ERPHEVHGQQ VYGQEQGHNG QEEQGLSPEH VEVYERTHQG YSHHRRRRCS RRRLYRIHRR \n",
      "PRM2_ERYPA       MVRYRTRSLS ERPHEVHGQQ VHGQDQGHNG QEEQGLSPEH VEVYERTHQG HSHHRRRRCS QRRLHRIHRR \n",
      "PRM2_MACNE       MVRYRMRSLS ERPHEVHGQQ VHGQDQGHNG QEEQGLNPEH VEVYERTHRG HSHHRRRRCS RRRLHRIHRR \n",
      "PRM2_MACFU       MVRYRMRSLS ERPHEVHGQQ VHGQDQGHNG QEEQGLNPEH VEVYERTHRG HSHHRRRRCS RRRLHRIHRR \n",
      "PRM2_MACMU       MVRYRMRSLS ERSHEVHGQQ VHGQDQGHNG QEEQGLNPEH VEVYERTH-G HSHYRRRHCS RRRLHRIHRR \n",
      "PRM2_GORGO       MVRCRVRSPS ERSHEVYRQQ LHGQEQGHHG QEEQGLSPEH VEVYERTH-G HSHYRRRHCS RRRLRRIHRQ \n",
      "PRM2_PANPA       MVRYRVRSPS EPSHEVYRQQ LHGQEQGHHG QEEQGLSPEH VEVYERTH-G HSHYRRRHCS RRRLRRIHRQ \n",
      "PRM2_PANTR       MVRYRVRSPS EPSHEVYRQQ LHGQEQGHHG QEEQGLSPEH VEVYERTH-G HSHYRRRHCS RRRLRRIHRQ \n",
      "PRM2_HUMAN       MVRYRVRSLS ERSHEVYRQQ LHGQEQGHHG QEEQGLSPEH VEVYERTH-G QSHYRRRHCS RRRLHRIHRR \n",
      "PRM2_PONPY       MVRYCVRSLS ERSHEVYGQQ LHGQEQGHHD QEEQGLSPEQ VEVYERTQ-G HSHYRRRHCS RRRLHRIHRQ \n",
      "PRM2_HYLLA       MVRYCVRSLS ERSHEVYGQQ LRGQEQGHHG QEEQGLSPED VEVYERTH-G HSHYRRRHCS RRRLHRIHRQ \n",
      "                         80         90        100        110\n",
      "                     *        * *   *    *              *  *   \n",
      "PRM2_RATTU       R-RSCRRRRR HSCCHRRRHR RGCRRSRRRR RCRCRKCRRQ CH        \n",
      "PRM2_MOUSE       R-RSCRRRRR HSCRHRRRHR RGCRRSRRRR RCRCRKCRRH HH        \n",
      "PRM2_RATFU       R-RSCRRRRR HSCCHRRRHR RGCRRSRRRR RCKCRKCRRH CH        \n",
      "PRM2_ALOSE       QRRSCRRRC- --CRYRRRNR RGCRT-RRRT ------CRRH --        \n",
      "PRM2_CALJA       RSRSCRRRRR RSCRYRRRPR RGCRSRRRRR ------CRRY --        \n",
      "PRM2_SEMEN       RHRSCRRRRR RSCRHRRRHR RGCRT-RRRR ------CRRY --        \n",
      "PRM2_ERYPA       RHRSCRRRRR RSCRHRRRHR RGCRT-RRRR ------CRRY --        \n",
      "PRM2_MACNE       RHRSCRRRRR RSCRHRRRHR RGCRT-RRRR ------CRRH --        \n",
      "PRM2_MACFU       RHRSCRRRRR RSCRHRRRHR RGCRT-RRRR ------CRRH --        \n",
      "PRM2_MACMU       RHRSCRRRRR RSCRHRRRHR RGCRT-RRRR ------CRRH --        \n",
      "PRM2_GORGO       QHRSCRRRKR RSCRHRRRHR KGCRT-RRRT ------CRRH --        \n",
      "PRM2_PANPA       QHRSCRRRKR RSCRHRRRHR RGCRT-RRRT ------CRKH --        \n",
      "PRM2_PANTR       QHRSCRRRKR RSCRHRRKHR RGCRT-RRRT ------CRRH --        \n",
      "PRM2_HUMAN       QHRSCRRRKR RSCRHRRRHR RGCRT-RKRT ------CRRH --        \n",
      "PRM2_PONPY       QHRSCKRRRR HSCRHRRKHR RGCRT-RRRT ------CRRH --        \n",
      "PRM2_HYLLA       QHRSCGRRRR RSCRQRRRHR RGCRT-RRRR ------CRRH --        \n",
      "\n",
      "Truncated Eutherian P2 Sperm Protamines\n",
      "                         58         68         78         88         98        108        118\n",
      "                     **     *        *       *        * *    *   *              *   *  \n",
      "PRM2_RATTU       RG--HHRHRR CSRKRLHRIH KRR-RSCRRR RRHSCCHRRR HRRGCRRSRR RRRCRCRKCR RQCH      \n",
      "PRM2_MOUSE       RGHHHHRHRR CSRKRLHRIH KRR-RSCRRR RRHSCRHRRR HRRGCRRSRR RRRCRCRKCR RHHH      \n",
      "PRM2_RATFU       RG--HHRHRR CSRKRLHRIH KRR-RSCRRR RRHSCCHRRR HRRGCRRSRR RRRCKCRKCR RHCH      \n",
      "PRM2_ALOSE       QGCYGYRRRL CSRRRLYRVH RRQRRSCRRR C---CRYRRR NRRGCRT-RR RT------CR RH--      \n",
      "PRM2_CALJA       QGYSSYRRRR CSRRRRYRIH RRRSRSCRRR RRRSCRYRRR PRRGCRSRRR RR------CR RY--      \n",
      "PRM2_SEMEN       QGYSHHRRRR CSRRRLYRIH RRRHRSCRRR RRRSCRHRRR HRRGCRT-RR RR------CR RY--      \n",
      "PRM2_ERYPA       QGHSHHRRRR CSQRRLHRIH RRRHRSCRRR RRRSCRHRRR HRRGCRT-RR RR------CR RY--      \n",
      "PRM2_MACNE       RGHSHHRRRR CSRRRLHRIH RRRHRSCRRR RRRSCRHRRR HRRGCRT-RR RR------CR RH--      \n",
      "PRM2_MACFU       RGHSHHRRRR CSRRRLHRIH RRRHRSCRRR RRRSCRHRRR HRRGCRT-RR RR------CR RH--      \n",
      "PRM2_MACMU       -GHSHYRRRH CSRRRLHRIH RRRHRSCRRR RRRSCRHRRR HRRGCRT-RR RR------CR RH--      \n",
      "PRM2_GORGO       -GHSHYRRRH CSRRRLRRIH RQQHRSCRRR KRRSCRHRRR HRKGCRT-RR RT------CR RH--      \n",
      "PRM2_PANPA       -GHSHYRRRH CSRRRLRRIH RQQHRSCRRR KRRSCRHRRR HRRGCRT-RR RT------CR KH--      \n",
      "PRM2_PANTR       -GHSHYRRRH CSRRRLRRIH RQQHRSCRRR KRRSCRHRRK HRRGCRT-RR RT------CR RH--      \n",
      "PRM2_HUMAN       -GQSHYRRRH CSRRRLHRIH RRQHRSCRRR KRRSCRHRRR HRRGCRT-RK RT------CR RH--      \n",
      "PRM2_PONPY       -GHSHYRRRH CSRRRLHRIH RQQHRSCKRR RRHSCRHRRK HRRGCRT-RR RT------CR RH--      \n",
      "PRM2_HYLLA       -GHSHYRRRH CSRRRLHRIH RQQHRSCGRR RRRSCRQRRR HRRGCRT-RR RR------CR RH--      \n",
      "\n",
      "Metatherian P1 Sperm Protamines\n",
      "                         10         20         30         40         50         60         70\n",
      "                 *  *  *         *                   *                        *     *         \n",
      "HSP1_MONDO       MARYRRRSRS RSRSRYGRRR RRSRS----R RRRSRRRRR- ---RRGRR-- ---GRGYHRR SPHRR---RR \n",
      "HSP1_DIDVI       MARYRRRSRS RSRSRYGRRR RRSRS----R RRRSRRRRR- ---RRGRR-- ---GRGYHRR SPHRR---RR \n",
      "HSP1_PHACI       MARYR-HSRS RSRSRY-QRR RRRRSRYRSQ RRRYRRRRGS RRRRRRGR-- ---RRGY-RR RYS-----RR \n",
      "HSP1_PSECU       MARYR-HSRS RSRSRYRRRR RRRRSRYRGR RRRYRRSRR- RRRRGRRRGN CLGRRGYRRR RYS-----RR \n",
      "HSP1_MACRU       MARYR-HSRS RSRSRY-RRR RRRRSRYRSQ RRRYRGRRR- -RRSRRGR-- ---RRGYSRR RYS------R \n",
      "HSP1_MACGI       MARYR-HSRS RSRSRY-RRR RRRRSRYRSR RRRYRGRRR- RRSRRGRR-- ---RRGYSRR RYS------R \n",
      "HSP1_WALBI       MARYR-HSRS RSRSRY-RRR RRRRSRYRSR RRRYRGRRR- RRSRRGRR-- ---RRGYSRR RYS-----RR \n",
      "HSP1_THYCY       MARYRRHSRS RSRSRY-RRR RRRRSRHHNR RRTYRRSRR- HSRRRRGR-- ---RRGYSRR RYS-----RR \n",
      "HSP1_PLAMS       MARCRRHSRS RSRSRN-QCQ RRRRRRY-NR RRTYRRSRR- HSRRRRGR-- ---RRGCSRR RYS-----RR \n",
      "HSP1_PLAIN       MARSRRHSRS RSRSR--NQC QRRRRRTYNR RRTMREKPR- HSRRRRVR-- ---RRGCSCR RCS-----RR \n",
      "                         80\n",
      "                     *       \n",
      "HSP1_MONDO       RRRR------ -        \n",
      "HSP1_DIDVI       RRRR------ -        \n",
      "HSP1_PHACI       --RRY----- -        \n",
      "HSP1_PSECU       RRRRYY---- -        \n",
      "HSP1_MACRU       RRRRY----- -        \n",
      "HSP1_MACGI       RRRRY----- -        \n",
      "HSP1_WALBI       RRRRY----- -        \n",
      "HSP1_THYCY       GRRRY----- -        \n",
      "HSP1_PLAMS       GRRRY----- -        \n",
      "HSP1_PLAIN       RRRRC----- -        \n",
      "\n",
      "Fish Protamines\n",
      "                         10         20         30         40\n",
      "                                                        \n",
      "PRTA_ACIST       -ARRRRRHAS TKLKRRR--- -----RRRRH GKKSHK \n",
      "PRT_ORYLA        ----MRRQAS LPARRRRRVR RTRVVRRRRR VGRRRH \n",
      "PRT_PERFV        --PRRRRHAA RPVRRRRRTR RSSRVHRRRR AVRRRR \n",
      "PRTB_MUGCE       --PRRRRETS RPIRRRRRAR RAPI-RRRRR VVRRRR \n",
      "PRT1_SCOSC       -MPRRRRRAS RPVRRRRRAR RSTAVRRRRR VVRRRR \n",
      "PRT2_SCOSC       -MPRRRRRAS RPIRRRRRAR RSTAVRRRRR VVRRRR \n",
      "PRT_DICLA        --PRRRRQAS RPVRRRRRTR RSTAERRRRR VVRRRR \n",
      "PRTY_THUTH       --PRRRRQAS RPVRRRRRYR RSTAARRRRR VVRRRR \n",
      "PRTZ_THUTH       --PRRRRRSS RPVRRRRRYR RSTVARRRRR VVRRRR \n",
      "PRTZ1_SAROR      --PRRRRRSS RPVRRRRRYR RSTAARRRRR VVRRRR \n"
     ]
    },
    {
     "name": "stdout",
     "output_type": "stream",
     "text": [
      "PRTB_ACIGU       --ARRRRRSS RPQRRRRR-- -----RRHGR RRRGRR \n",
      "PRTB_ACIST       --ARRRRRSS RPQRRRRR-- -----RRHGR RRRGRR \n",
      "PRTY1_CLUHA      --ARRRRSSS RPIRRRRPRR RT---TRRRR AGRRRR \n",
      "PRTY1_CLUPA      --ARRRRSSS RPIRRRRPRR RT---TRRRR AGRRRR \n",
      "PRT1_ESOLU       -PRRRRASSG RPVRRRRRP- KMS--RRRRR GGRRRR \n",
      "PRTZ_CLUPA       ARRRRSRRAS RPVRRRRPR- RVS--RRRR- -ARRRR \n",
      "PRTZ_CLUHA       ARRRRSRRAS RPVRRRRPR- RVS--RRRR- -ARRRR \n",
      "PRT4_ONCMY       -MPRRRR-AS RRIRRRRRP- RVS--RRRRG GRRRRR \n",
      "PRTY2_CLUPA      -PRRRTRRAS RPVRRRRPR- RVS--RRRR- -ARRRR \n",
      "PRTY2_CLUHA      -PRRRTRRAS RPVRRRRPR- RVS--RRRR- -ARRRR \n",
      "PRT3A_ONCMY      -PRRRRRSSS RPIRRRRRP- RVS--RRRRR GGRRRR \n",
      "PRTIB_ONCMY      PRRRRRRSSS RPIRRRRPR- RVS--RRRRR GGRRRR \n",
      "PRT1B_ONCMY      -MPRRRR-AS RRIRRRRRP- RVS--RRRRR GGRRRR \n",
      "PRT1A_ONCMY      -MPRRRR-AS RRVRRRRRP- RVS--RRRRR GGRRRR \n",
      "PRTC3_ONCMY      -MPRRRR-AS RPVRRRRRP- RVS--RRRRR GGRRRR \n",
      "PRT2C_ONCMY      -MPRRRRSSR RPVRRRRRP- RVSR-RRRRR GGRRRR \n",
      "PRT14_ONCMY      -MPRRRRSSR PPVRRRRRP- RVSR-RRRRR GGRRRR \n",
      "PRT2_ONCMY       --PRRRRSSS RPVRRRRAR- RVSR-RRRRR GGRRRR \n",
      "PRT2A_ONCMY      --PRRRRSSS RPVRRRRRA- RVSR-RRRRR GGRRRR \n",
      "PRTIA_ONCMY      --PRRRRSSS RPVRRRRRPR RVSR-RRRRR GGRRRR \n",
      "PRT1_ONCKE       -MPRRRRSSS RPVRRRRRP- RVSR-RRRRR GGRRRR \n",
      "PRT2B_ONCMY      -MPRRRRSSS RPVRRRRRP- RVSR-RRRRR GGRRRR \n",
      "PRT16_ONCMY      -MPRRRRSSS RPVRRRRRA- RVSR-RRRRR GRRRRR \n",
      "PRT17_ONCMY      -MPRRRRSSS RPVRRRRRP- RVSR-RRRRR GRRRRR \n",
      "\n",
      "##############################\n",
      "# Conserved Residue Rankings #\n",
      "##############################\n",
      "\n",
      "Eutherian P1 Sperm Protamines\n",
      "┌──────┬──────────┬─────────┬────────────┐\n",
      "│Rank  │Position  │Relative │Represented │\n",
      "│      │in        │Entropy  │Residues    │\n",
      "│      │Alignment │(bit)    │            │\n",
      "├──────┼──────────┼─────────┼────────────┤\n",
      "│     1│         7│   6.1571│  C:   98.6%│\n",
      "│      │          │         │  R:    1.4%│\n",
      "├──────┼──────────┼─────────┼────────────┤\n",
      "│     2│        49│   6.1198│  C:  97.92%│\n",
      "│      │          │         │  G:   1.39%│\n",
      "│      │          │         │  S:   0.69%│\n",
      "├──────┼──────────┼─────────┼────────────┤\n",
      "│     3│        50│   5.8701│  C:  95.14%│\n",
      "│      │          │         │  R:   2.08%│\n",
      "│      │          │         │  Y:   1.39%│\n",
      "│      │          │         │  G:   0.69%│\n",
      "│      │          │         │  S:   0.69%│\n",
      "├──────┼──────────┼─────────┼────────────┤\n",
      "│     4│        60│   5.4386│  C:  89.51%│\n",
      "│      │          │         │  R:    4.9%│\n",
      "│      │          │         │  S:    4.2%│\n",
      "│      │          │         │  Y:    1.4%│\n",
      "├──────┼──────────┼─────────┼────────────┤\n",
      "│     5│        38│   5.1866│  C:   86.9%│\n",
      "│      │          │         │  G:   4.14%│\n",
      "│      │          │         │  Y:   2.76%│\n",
      "│      │          │         │  R:   1.38%│\n",
      "│      │          │         │  S:   1.38%│\n",
      "│      │          │         │  V:   1.38%│\n",
      "│      │          │         │  A:   0.69%│\n",
      "│      │          │         │  F:   0.69%│\n",
      "│      │          │         │  H:   0.69%│\n",
      "├──────┼──────────┼─────────┼────────────┤\n",
      "│     6│        17│   4.8853│  C:  79.31%│\n",
      "│      │          │         │  R:   13.1%│\n",
      "│      │          │         │  G:   5.52%│\n",
      "│      │          │         │  S:   1.38%│\n",
      "│      │          │         │  Y:   0.69%│\n",
      "├──────┼──────────┼─────────┼────────────┤\n",
      "│     7│        29│   4.8128│  C:  77.24%│\n",
      "│      │          │         │  Y:   13.1%│\n",
      "│      │          │         │  S:   5.52%│\n",
      "│      │          │         │  G:   1.38%│\n",
      "│      │          │         │  R:   1.38%│\n",
      "│      │          │         │  F:   0.69%│\n",
      "│      │          │         │  N:   0.69%│\n",
      "├──────┼──────────┼─────────┼────────────┤\n",
      "│     8│         6│   4.6044│  C:   95.5%│\n",
      "│      │          │         │  R:    4.5%│\n",
      "├──────┼──────────┼─────────┼────────────┤\n",
      "│     9│        37│   4.3298│  C:  68.97%│\n",
      "│      │          │         │  S:  19.31%│\n",
      "│      │          │         │  F:   5.52%│\n",
      "│      │          │         │  R:   5.52%│\n",
      "│      │          │         │  T:   0.69%│\n",
      "└──────┴──────────┴─────────┴────────────┘\n",
      "\n",
      "Eutherian P2 Sperm Protamines\n",
      "┌──────┬──────────┬─────────┬────────────┐\n",
      "│Rank  │Position  │Relative │Represented │\n",
      "│      │in        │Entropy  │Residues    │\n",
      "│      │Alignment │(bit)    │            │\n",
      "├──────┼──────────┼─────────┼────────────┤\n",
      "│     1│        59│   6.3808│  C:  100.0%│\n",
      "├──────┼──────────┼─────────┼────────────┤\n",
      "│     2│        75│   6.3808│  C:  100.0%│\n",
      "├──────┼──────────┼─────────┼────────────┤\n",
      "│     3│        83│   6.3808│  C:  100.0%│\n",
      "├──────┼──────────┼─────────┼────────────┤\n",
      "│     4│        93│   6.3808│  C:  100.0%│\n",
      "├──────┼──────────┼─────────┼────────────┤\n",
      "│     5│       107│   6.3808│  C:  100.0%│\n",
      "├──────┼──────────┼─────────┼────────────┤\n",
      "│     6│        14│   5.5129│  H:  100.0%│\n",
      "├──────┼──────────┼─────────┼────────────┤\n",
      "│     7│        68│   5.5129│  H:  100.0%│\n",
      "├──────┼──────────┼─────────┼────────────┤\n",
      "│     8│        48│   5.1264│  H:  93.75%│\n",
      "│      │          │         │  Q:   6.25%│\n",
      "├──────┼──────────┼─────────┼────────────┤\n",
      "│     9│        44│    5.093│  Y:  100.0%│\n",
      "├──────┼──────────┼─────────┼────────────┤\n",
      "│    10│         4│   4.8362│  Y:  93.75%│\n",
      "│      │          │         │  C:   6.25%│\n",
      "├──────┼──────────┼─────────┼────────────┤\n",
      "│    11│        19│   4.7255│  Q:  100.0%│\n",
      "├──────┼──────────┼─────────┼────────────┤\n",
      "│    12│        26│   4.7255│  Q:  100.0%│\n",
      "├──────┼──────────┼─────────┼────────────┤\n",
      "│    13│        34│   4.7255│  Q:  100.0%│\n",
      "├──────┼──────────┼─────────┼────────────┤\n",
      "│    14│        89│   4.7208│  H:   87.5%│\n",
      "│      │          │         │  N:   6.25%│\n",
      "│      │          │         │  P:   6.25%│\n",
      "├──────┼──────────┼─────────┼────────────┤\n",
      "│    15│        53│   4.6355│  H:   87.5%│\n",
      "│      │          │         │  G:   6.25%│\n",
      "│      │          │         │  S:   6.25%│\n",
      "├──────┼──────────┼─────────┼────────────┤\n",
      "│    16│        85│   4.5428│  H:  81.25%│\n",
      "│      │          │         │  Y:   12.5%│\n",
      "│      │          │         │  Q:   6.25%│\n",
      "├──────┼──────────┼─────────┼────────────┤\n",
      "│    17│       110│   4.3709│  H:   75.0%│\n",
      "│      │          │         │  Y:  18.75%│\n",
      "│      │          │         │  Q:   6.25%│\n",
      "├──────┼──────────┼─────────┼────────────┤\n",
      "│    18│        54│    4.288│  Y:  56.25%│\n",
      "│      │          │         │  H:  43.75%│\n",
      "├──────┼──────────┼─────────┼────────────┤\n",
      "│    19│        47│   4.1714│  T:  100.0%│\n",
      "└──────┴──────────┴─────────┴────────────┘\n",
      "\n",
      "Truncated Eutherian P2 Sperm Protamines\n",
      "┌──────┬──────────┬─────────┬────────────┐\n",
      "│Rank  │Position  │Relative │Represented │\n",
      "│      │in        │Entropy  │Residues    │\n",
      "│      │Alignment │(bit)    │            │\n",
      "├──────┼──────────┼─────────┼────────────┤\n",
      "│     1│        59│   6.3808│  C:  100.0%│\n",
      "├──────┼──────────┼─────────┼────────────┤\n",
      "│     2│        75│   6.3808│  C:  100.0%│\n",
      "├──────┼──────────┼─────────┼────────────┤\n",
      "│     3│        83│   6.3808│  C:  100.0%│\n",
      "├──────┼──────────┼─────────┼────────────┤\n",
      "│     4│        93│   6.3808│  C:  100.0%│\n",
      "├──────┼──────────┼─────────┼────────────┤\n",
      "│     5│       107│   6.3808│  C:  100.0%│\n",
      "├──────┼──────────┼─────────┼────────────┤\n",
      "│     6│        68│   5.5129│  H:  100.0%│\n",
      "├──────┼──────────┼─────────┼────────────┤\n",
      "│     7│        89│   4.7208│  H:   87.5%│\n",
      "│      │          │         │  N:   6.25%│\n",
      "│      │          │         │  P:   6.25%│\n",
      "├──────┼──────────┼─────────┼────────────┤\n",
      "│     8│        53│   4.6355│  H:   87.5%│\n",
      "│      │          │         │  G:   6.25%│\n",
      "│      │          │         │  S:   6.25%│\n",
      "├──────┼──────────┼─────────┼────────────┤\n",
      "│     9│        85│   4.5428│  H:  81.25%│\n",
      "│      │          │         │  Y:   12.5%│\n",
      "│      │          │         │  Q:   6.25%│\n",
      "├──────┼──────────┼─────────┼────────────┤\n",
      "│    10│       110│   4.3709│  H:   75.0%│\n",
      "│      │          │         │  Y:  18.75%│\n",
      "│      │          │         │  Q:   6.25%│\n",
      "├──────┼──────────┼─────────┼────────────┤\n",
      "│    11│        54│    4.288│  Y:  56.25%│\n",
      "│      │          │         │  H:  43.75%│\n",
      "└──────┴──────────┴─────────┴────────────┘\n",
      "\n",
      "Metatherian P1 Sperm Protamines\n",
      "┌──────┬──────────┬─────────┬────────────┐\n",
      "│Rank  │Position  │Relative │Represented │\n",
      "│      │in        │Entropy  │Residues    │\n",
      "│      │Alignment │(bit)    │            │\n",
      "├──────┼──────────┼─────────┼────────────┤\n",
      "│     1│         7│   4.9798│  H:  92.63%│\n",
      "│      │          │         │  R:   5.26%│\n",
      "│      │          │         │  N:   2.11%│\n",
      "├──────┼──────────┼─────────┼────────────┤\n",
      "│     2│         4│   4.8351│  Y:  95.79%│\n",
      "│      │          │         │  C:   3.16%│\n",
      "│      │          │         │  S:   1.05%│\n",
      "├──────┼──────────┼─────────┼────────────┤\n",
      "│     3│        57│    4.733│  Y:  93.68%│\n",
      "│      │          │         │  C:   4.21%│\n",
      "│      │          │         │  K:   2.11%│\n",
      "├──────┼──────────┼─────────┼────────────┤\n",
      "│     4│        16│   4.6696│  Y:  94.68%│\n",
      "│      │          │         │  N:   3.19%│\n",
      "│      │          │         │  F:   2.13%│\n",
      "├──────┼──────────┼─────────┼────────────┤\n",
      "│     5│        62│   4.5991│  Y:  92.63%│\n",
      "│      │          │         │  C:   3.16%│\n",
      "│      │          │         │  P:   2.11%│\n",
      "│      │          │         │  S:   2.11%│\n",
      "├──────┼──────────┼─────────┼────────────┤\n",
      "│     6│        75│   4.5653│  Y:  94.51%│\n",
      "│      │          │         │  C:    3.3%│\n",
      "│      │          │         │  N:    2.2%│\n",
      "├──────┼──────────┼─────────┼────────────┤\n",
      "│     7│        34│   4.5358│  Y:  91.58%│\n",
      "│      │          │         │  S:   4.21%│\n",
      "│      │          │         │  Q:   2.11%│\n",
      "│      │          │         │  M:   1.05%│\n",
      "│      │          │         │  X:   1.05%│\n",
      "└──────┴──────────┴─────────┴────────────┘\n",
      "\n",
      "#################################\n",
      "# Charged Residue Quartile Data #\n",
      "#################################\n",
      "\n",
      "┌────────────────┬──────┬──────┬──────┬──────┬──────┐\n",
      "│Name            │Min   │Q1    │Median│Q3    │Max   │\n",
      "├────────────────┼──────┼──────┼──────┼──────┼──────┤\n",
      "│Eutherian P1    │ 0.429│ 0.471│  0.52│  0.58│ 0.652│\n",
      "├────────────────┼──────┼──────┼──────┼──────┼──────┤\n",
      "│Eutherian P2    │ 0.294│ 0.328│ 0.341│ 0.362│ 0.385│\n",
      "├────────────────┼──────┼──────┼──────┼──────┼──────┤\n",
      "│Eutherian P2 T. │ 0.473│ 0.509│ 0.545│ 0.559│ 0.589│\n",
      "├────────────────┼──────┼──────┼──────┼──────┼──────┤\n",
      "│Metatherian     │ 0.478│ 0.587│   0.6│ 0.624│ 0.656│\n",
      "├────────────────┼──────┼──────┼──────┼──────┼──────┤\n",
      "│Fish            │ 0.562│ 0.636│ 0.652│ 0.667│ 0.704│\n",
      "└────────────────┴──────┴──────┴──────┴──────┴──────┘\n",
      "\n",
      "┌────────────────┬──────┬──────┬──────┬──────┬──────┐\n",
      "│Name            │Min   │Q1    │Median│Q3    │Max   │\n",
      "├────────────────┼──────┼──────┼──────┼──────┼──────┤\n",
      "│Eutherian P1 DNA│ 0.478│ 0.636│ 0.714│ 0.773│ 0.857│\n",
      "├────────────────┼──────┼──────┼──────┼──────┼──────┤\n",
      "│Metatherian DNA │ 0.529│ 0.667│ 0.697│ 0.719│ 0.781│\n",
      "└────────────────┴──────┴──────┴──────┴──────┴──────┘\n",
      "\n",
      "###################################\n",
      "# t-Tests for DNA Binding Regions #\n",
      "###################################\n",
      "\n",
      "ep1-mp1  2.184e-02\n",
      "ep1-fish 4.762e-11\n",
      "mp1-fish 4.987e-08\n",
      "\n",
      "\n",
      "########################\n",
      "# Variability Analysis #\n",
      "########################\n",
      "\n",
      "Eutherian P1 Sperm Protamines\n",
      "┌──────┬──────┬──────┬──────┬──────┐\n",
      "│Rank  │AA    │Range │AA    │std   │\n",
      "├──────┼──────┼──────┼──────┼──────┤\n",
      "│     1│     Q│ 0.182│     Q│0.0335│\n",
      "│     2│     K│ 0.224│     P│ 0.044│\n",
      "│     3│     T│ 0.224│     T│0.0456│\n",
      "│     4│     S│ 0.242│     N│0.0463│\n",
      "│     5│     N│ 0.244│     A│0.0489│\n",
      "└──────┴──────┴──────┴──────┴──────┘\n",
      "\n",
      "Eutherian P2 Sperm Protamines\n",
      "┌──────┬──────┬──────┬──────┬──────┐\n",
      "│Rank  │AA    │Range │AA    │std   │\n",
      "├──────┼──────┼──────┼──────┼──────┤\n",
      "│     1│     Q│0.0698│     Q│0.0169│\n",
      "│     2│     L│0.0901│     T│0.0217│\n",
      "│     3│     T│0.0903│     L│0.0227│\n",
      "│     4│     K│0.0905│     E│0.0238│\n",
      "│     5│     C│0.0994│     V│0.0249│\n",
      "└──────┴──────┴──────┴──────┴──────┘\n",
      "\n",
      "Truncated Eutherian P2 Sperm Protamines\n",
      "┌──────┬──────┬──────┬──────┬──────┐\n",
      "│Rank  │AA    │Range │AA    │std   │\n",
      "├──────┼──────┼──────┼──────┼──────┤\n",
      "│     1│     Q│ 0.116│     K│0.0349│\n",
      "│     2│     K│ 0.117│     Q│0.0365│\n",
      "│     3│     T│ 0.127│     T│0.0401│\n",
      "│     4│     L│ 0.145│     L│ 0.044│\n",
      "│     5│     C│ 0.151│     G│0.0454│\n",
      "└──────┴──────┴──────┴──────┴──────┘\n",
      "\n",
      "Metatherian P1 Sperm Protamines\n",
      "┌──────┬──────┬──────┬──────┬──────┐\n",
      "│Rank  │AA    │Range │AA    │std   │\n",
      "├──────┼──────┼──────┼──────┼──────┤\n",
      "│     1│     K│ 0.177│     N│0.0273│\n",
      "│     2│     N│ 0.179│     K│0.0305│\n",
      "│     3│     G│ 0.202│     T│0.0349│\n",
      "│     4│     A│ 0.223│     A│0.0349│\n",
      "│     5│     E│ 0.235│     Q│0.0354│\n",
      "└──────┴──────┴──────┴──────┴──────┘\n",
      "\n",
      "Fish Protamines\n",
      "┌──────┬──────┬──────┬──────┬──────┐\n",
      "│Rank  │AA    │Range │AA    │std   │\n",
      "├──────┼──────┼──────┼──────┼──────┤\n",
      "│     1│     K│ 0.141│     K│0.0272│\n",
      "│     2│     H│ 0.185│     H│0.0351│\n",
      "│     3│     L│ 0.222│     L│0.0387│\n",
      "│     4│     T│ 0.228│     T│0.0411│\n",
      "│     5│     A│ 0.256│     E│0.0448│\n",
      "└──────┴──────┴──────┴──────┴──────┘\n",
      "\n"
     ]
    },
    {
     "ename": "FileNotFoundError",
     "evalue": "[Errno 2] No such file or directory: '/usr/bin/muscle3.8.31_i86linux64': '/usr/bin/muscle3.8.31_i86linux64'",
     "output_type": "error",
     "traceback": [
      "\u001b[0;31m---------------------------------------------------------------------------\u001b[0m",
      "\u001b[0;31mFileNotFoundError\u001b[0m                         Traceback (most recent call last)",
      "\u001b[0;32m<ipython-input-1-d057bc67ae63>\u001b[0m in \u001b[0;36m<module>\u001b[0;34m()\u001b[0m\n\u001b[1;32m      3\u001b[0m \u001b[0;32mimport\u001b[0m \u001b[0mtermcolor\u001b[0m\u001b[0;34m\u001b[0m\u001b[0m\n\u001b[1;32m      4\u001b[0m \u001b[0mexec\u001b[0m\u001b[0;34m(\u001b[0m\u001b[0mopen\u001b[0m\u001b[0;34m(\u001b[0m\u001b[0;34m'ProtamineAnalysis.py'\u001b[0m\u001b[0;34m)\u001b[0m\u001b[0;34m.\u001b[0m\u001b[0mread\u001b[0m\u001b[0;34m(\u001b[0m\u001b[0;34m)\u001b[0m\u001b[0;34m)\u001b[0m\u001b[0;34m\u001b[0m\u001b[0m\n\u001b[0;32m----> 5\u001b[0;31m \u001b[0mexec\u001b[0m\u001b[0;34m(\u001b[0m\u001b[0mopen\u001b[0m\u001b[0;34m(\u001b[0m\u001b[0;34m'GenerateDatasets.py'\u001b[0m\u001b[0;34m)\u001b[0m\u001b[0;34m.\u001b[0m\u001b[0mread\u001b[0m\u001b[0;34m(\u001b[0m\u001b[0;34m)\u001b[0m\u001b[0;34m)\u001b[0m\u001b[0;34m\u001b[0m\u001b[0m\n\u001b[0m",
      "\u001b[0;32m<string>\u001b[0m in \u001b[0;36m<module>\u001b[0;34m()\u001b[0m\n",
      "\u001b[0;32m~/protamine_simulation/jupyter_nb/ProtamineAnalysis/alignment_tools.py\u001b[0m in \u001b[0;36m__init__\u001b[0;34m(self, protein_list, back_freq_dict)\u001b[0m\n\u001b[1;32m     47\u001b[0m         \u001b[0mself\u001b[0m\u001b[0;34m.\u001b[0m\u001b[0mprotein_list\u001b[0m \u001b[0;34m=\u001b[0m \u001b[0mprotein_list\u001b[0m\u001b[0;34m\u001b[0m\u001b[0m\n\u001b[1;32m     48\u001b[0m         \u001b[0mself\u001b[0m\u001b[0;34m.\u001b[0m\u001b[0mback_freq_dict\u001b[0m \u001b[0;34m=\u001b[0m \u001b[0mback_freq_dict\u001b[0m\u001b[0;34m\u001b[0m\u001b[0m\n\u001b[0;32m---> 49\u001b[0;31m         \u001b[0mself\u001b[0m\u001b[0;34m.\u001b[0m\u001b[0mfasta_str\u001b[0m \u001b[0;34m=\u001b[0m \u001b[0mmuscle\u001b[0m\u001b[0;34m.\u001b[0m\u001b[0malign\u001b[0m\u001b[0;34m(\u001b[0m\u001b[0;34m\"\"\u001b[0m\u001b[0;34m.\u001b[0m\u001b[0mjoin\u001b[0m\u001b[0;34m(\u001b[0m\u001b[0;34m[\u001b[0m\u001b[0mpro\u001b[0m\u001b[0;34m.\u001b[0m\u001b[0mfasta\u001b[0m \u001b[0;32mfor\u001b[0m \u001b[0mpro\u001b[0m \u001b[0;32min\u001b[0m \u001b[0mself\u001b[0m\u001b[0;34m.\u001b[0m\u001b[0mprotein_list\u001b[0m\u001b[0;34m]\u001b[0m\u001b[0;34m)\u001b[0m\u001b[0;34m)\u001b[0m\u001b[0;34m\u001b[0m\u001b[0m\n\u001b[0m\u001b[1;32m     50\u001b[0m         \u001b[0mself\u001b[0m\u001b[0;34m.\u001b[0m\u001b[0mid_list\u001b[0m\u001b[0;34m,\u001b[0m \u001b[0mself\u001b[0m\u001b[0;34m.\u001b[0m\u001b[0malignment_matrix\u001b[0m \u001b[0;34m=\u001b[0m \u001b[0mself\u001b[0m\u001b[0;34m.\u001b[0m\u001b[0m_alignment\u001b[0m\u001b[0;34m(\u001b[0m\u001b[0;34m)\u001b[0m\u001b[0;34m\u001b[0m\u001b[0m\n\u001b[1;32m     51\u001b[0m         \u001b[0mself\u001b[0m\u001b[0;34m.\u001b[0m\u001b[0mcount_dicts\u001b[0m \u001b[0;34m=\u001b[0m \u001b[0mself\u001b[0m\u001b[0;34m.\u001b[0m\u001b[0m_count_dicts\u001b[0m\u001b[0;34m(\u001b[0m\u001b[0;34m)\u001b[0m\u001b[0;34m\u001b[0m\u001b[0m\n",
      "\u001b[0;32m~/protamine_simulation/jupyter_nb/ProtamineAnalysis/muscle_tools.py\u001b[0m in \u001b[0;36malign\u001b[0;34m(fasta_str)\u001b[0m\n\u001b[1;32m     25\u001b[0m \u001b[0;34m\u001b[0m\u001b[0m\n\u001b[1;32m     26\u001b[0m         muscle_cline = subprocess.Popen(['/usr/bin/muscle3.8.31_i86linux64', '-in', tmp_file.name,\n\u001b[0;32m---> 27\u001b[0;31m                                          '-quiet'], cwd='/tmp/', stdout=subprocess.PIPE)\n\u001b[0m\u001b[1;32m     28\u001b[0m         \u001b[0maligned_fasta_str\u001b[0m \u001b[0;34m=\u001b[0m \u001b[0mmuscle_cline\u001b[0m\u001b[0;34m.\u001b[0m\u001b[0mcommunicate\u001b[0m\u001b[0;34m(\u001b[0m\u001b[0;34m)\u001b[0m\u001b[0;34m[\u001b[0m\u001b[0;36m0\u001b[0m\u001b[0;34m]\u001b[0m\u001b[0;34m.\u001b[0m\u001b[0mdecode\u001b[0m\u001b[0;34m(\u001b[0m\u001b[0;34m\"utf-8\"\u001b[0m\u001b[0;34m)\u001b[0m\u001b[0;34m\u001b[0m\u001b[0m\n\u001b[1;32m     29\u001b[0m \u001b[0;34m\u001b[0m\u001b[0m\n",
      "\u001b[0;32m/public/apps/python/3.7.0/lib/python3.7/subprocess.py\u001b[0m in \u001b[0;36m__init__\u001b[0;34m(self, args, bufsize, executable, stdin, stdout, stderr, preexec_fn, close_fds, shell, cwd, env, universal_newlines, startupinfo, creationflags, restore_signals, start_new_session, pass_fds, encoding, errors, text)\u001b[0m\n\u001b[1;32m    754\u001b[0m                                 \u001b[0mc2pread\u001b[0m\u001b[0;34m,\u001b[0m \u001b[0mc2pwrite\u001b[0m\u001b[0;34m,\u001b[0m\u001b[0;34m\u001b[0m\u001b[0m\n\u001b[1;32m    755\u001b[0m                                 \u001b[0merrread\u001b[0m\u001b[0;34m,\u001b[0m \u001b[0merrwrite\u001b[0m\u001b[0;34m,\u001b[0m\u001b[0;34m\u001b[0m\u001b[0m\n\u001b[0;32m--> 756\u001b[0;31m                                 restore_signals, start_new_session)\n\u001b[0m\u001b[1;32m    757\u001b[0m         \u001b[0;32mexcept\u001b[0m\u001b[0;34m:\u001b[0m\u001b[0;34m\u001b[0m\u001b[0m\n\u001b[1;32m    758\u001b[0m             \u001b[0;31m# Cleanup if the child failed starting.\u001b[0m\u001b[0;34m\u001b[0m\u001b[0;34m\u001b[0m\u001b[0m\n",
      "\u001b[0;32m/public/apps/python/3.7.0/lib/python3.7/subprocess.py\u001b[0m in \u001b[0;36m_execute_child\u001b[0;34m(self, args, executable, preexec_fn, close_fds, pass_fds, cwd, env, startupinfo, creationflags, shell, p2cread, p2cwrite, c2pread, c2pwrite, errread, errwrite, restore_signals, start_new_session)\u001b[0m\n\u001b[1;32m   1497\u001b[0m                         \u001b[0;32mif\u001b[0m \u001b[0merrno_num\u001b[0m \u001b[0;34m==\u001b[0m \u001b[0merrno\u001b[0m\u001b[0;34m.\u001b[0m\u001b[0mENOENT\u001b[0m\u001b[0;34m:\u001b[0m\u001b[0;34m\u001b[0m\u001b[0m\n\u001b[1;32m   1498\u001b[0m                             \u001b[0merr_msg\u001b[0m \u001b[0;34m+=\u001b[0m \u001b[0;34m': '\u001b[0m \u001b[0;34m+\u001b[0m \u001b[0mrepr\u001b[0m\u001b[0;34m(\u001b[0m\u001b[0merr_filename\u001b[0m\u001b[0;34m)\u001b[0m\u001b[0;34m\u001b[0m\u001b[0m\n\u001b[0;32m-> 1499\u001b[0;31m                     \u001b[0;32mraise\u001b[0m \u001b[0mchild_exception_type\u001b[0m\u001b[0;34m(\u001b[0m\u001b[0merrno_num\u001b[0m\u001b[0;34m,\u001b[0m \u001b[0merr_msg\u001b[0m\u001b[0;34m,\u001b[0m \u001b[0merr_filename\u001b[0m\u001b[0;34m)\u001b[0m\u001b[0;34m\u001b[0m\u001b[0m\n\u001b[0m\u001b[1;32m   1500\u001b[0m                 \u001b[0;32mraise\u001b[0m \u001b[0mchild_exception_type\u001b[0m\u001b[0;34m(\u001b[0m\u001b[0merr_msg\u001b[0m\u001b[0;34m)\u001b[0m\u001b[0;34m\u001b[0m\u001b[0m\n\u001b[1;32m   1501\u001b[0m \u001b[0;34m\u001b[0m\u001b[0m\n",
      "\u001b[0;31mFileNotFoundError\u001b[0m: [Errno 2] No such file or directory: '/usr/bin/muscle3.8.31_i86linux64': '/usr/bin/muscle3.8.31_i86linux64'"
     ]
    }
   ],
   "source": [
    "import numpy as np\n",
    "import matplotlib.pyplot as plt\n",
    "import termcolor\n",
    "exec(open('ProtamineAnalysis.py').read())\n",
    "exec(open('GenerateDatasets.py').read())"
   ]
  },
  {
   "cell_type": "code",
   "execution_count": null,
   "metadata": {},
   "outputs": [],
   "source": [
    "print(e_p1_list[1]['_ID'],e_p1_list[1]['_SQ'])\n",
    "#AAABBBBBBBAA\n",
    "b_count=7\n",
    "e_p1_list"
   ]
  },
  {
   "cell_type": "code",
   "execution_count": null,
   "metadata": {},
   "outputs": [],
   "source": [
    "#ep1_align.print_alignment_2(line_len=80)\n",
    "def remove_position_with_excess_dash(protamine_sequence):\n",
    "#remove positions where at least 40% is just dash (-), so set below variable at 0.4\n",
    "#this is for ALIGNED sequences\n",
    "    removal_fraction=0.4\n",
    "    aligned_sequence_array=np.array([])\n",
    "    j=0\n",
    "    for sequence in protamine_sequence:\n",
    "        temp_sequence_array=np.array([])\n",
    "        for position in sequence:\n",
    "            if position == '-':\n",
    "                temp_sequence_array=np.append(temp_sequence_array,1)\n",
    "            else:\n",
    "                temp_sequence_array=np.append(temp_sequence_array,0)\n",
    "        if j==0:\n",
    "            aligned_sequence_array=temp_sequence_array\n",
    "        elif j!=0:\n",
    "            aligned_sequence_array=np.vstack((aligned_sequence_array,temp_sequence_array))\n",
    "        j+=1\n",
    "    positions_for_removal_bool=np.sum(aligned_sequence_array,axis=0)/len(aligned_sequence_array)>=removal_fraction\n",
    "    j=0\n",
    "    for sequence in protamine_sequence:\n",
    "        modified_sequence=np.array(sequence)[[~(positions_for_removal_bool)]]\n",
    "        if j==0:\n",
    "            sequence_list_with_positions_removed=modified_sequence\n",
    "        else:\n",
    "            sequence_list_with_positions_removed=np.vstack((sequence_list_with_positions_removed,modified_sequence))\n",
    "        j+=1\n",
    "    return sequence_list_with_positions_removed"
   ]
  },
  {
   "cell_type": "code",
   "execution_count": 9,
   "metadata": {},
   "outputs": [],
   "source": [
    "#count_chars_arg misses terminal arginine\n",
    "def count_chars_arg(txt):\n",
    "    result = 0\n",
    "    for i,char in enumerate(txt):\n",
    "        if char=='R' and i<len(txt)-1:\n",
    "            result += 1    \n",
    "    return result\n",
    "def count_chars_nonarg(txt):\n",
    "    result = 0\n",
    "    for i,char in enumerate(txt):\n",
    "        if char!='R' and i<len(txt)-1:\n",
    "            result += 1    \n",
    "    return result\n",
    "def aa_count(txt):\n",
    "    result=0\n",
    "    i=0\n",
    "    j=0\n",
    "    for i,char in enumerate(txt):\n",
    "        if char=='R' and i<len(txt)-1:\n",
    "            if txt[i+1]=='R':\n",
    "                result+=1\n",
    "    return result\n",
    "def aa_count_rk(txt):\n",
    "    result=0\n",
    "    i=0\n",
    "    j=0\n",
    "    for i,char in enumerate(txt):\n",
    "        if (char=='R' or char=='K') and i<len(txt)-1:\n",
    "            if txt[i+1]=='R' or txt[i+1]=='K':\n",
    "                result+=1\n",
    "    return result\n",
    "def bb_count(txt):\n",
    "    result=0\n",
    "    i=0\n",
    "    j=0\n",
    "    for i,char in enumerate(txt):\n",
    "        if char!='R' and i<len(txt)-1:\n",
    "            if txt[i+1]!='R':\n",
    "                result+=1\n",
    "    return result\n",
    "def order_parameter(txt):\n",
    "    aa=aa_count(txt)\n",
    "    bb=bb_count(txt)\n",
    "    a_count=count_chars_arg(txt)\n",
    "    b_count=count_chars_nonarg(txt)     \n",
    "    Paa=aa/a_count\n",
    "    Pbb=bb/b_count\n",
    "    lambda_order_parameter=Paa+Pbb-1\n",
    "    return lambda_order_parameter\n",
    "    "
   ]
  },
  {
   "cell_type": "code",
   "execution_count": 8,
   "metadata": {},
   "outputs": [
    {
     "name": "stdout",
     "output_type": "stream",
     "text": [
      "aa= 15\n",
      "bb= 6\n",
      "a_count= 20\n",
      "b_count= 12\n"
     ]
    },
    {
     "data": {
      "text/plain": [
       "0.25"
      ]
     },
     "execution_count": 8,
     "metadata": {},
     "output_type": "execute_result"
    }
   ],
   "source": [
    "salmon='MPRRRRSSSRPVRRRRRPRVSRRRRRRGGRRRR'\n",
    "order_parameter(salmon)"
   ]
  },
  {
   "cell_type": "code",
   "execution_count": null,
   "metadata": {},
   "outputs": [],
   "source": [
    "def count_charge(txt):\n",
    "    result = 0\n",
    "    for char in txt:\n",
    "        if char=='K' or char=='R' or char=='H':\n",
    "            result += 1\n",
    "        if char=='D' or char=='E':\n",
    "            result = result - 1\n",
    "    return result"
   ]
  },
  {
   "cell_type": "code",
   "execution_count": 4,
   "metadata": {},
   "outputs": [],
   "source": [
    "#all sequences\n",
    "def sequence_order_parameter(protamine_sequence):\n",
    "    order_p=list()\n",
    "    for sequence in range(0,len(protamine_sequence)):\n",
    "        order_p.append(order_parameter(protamine_sequence[sequence]['_SQ']))\n",
    "    return order_p\n",
    "def sequence_order_parameter_bindingregion(protamine_sequence,list_of_aligned_sequence):\n",
    "#binding region according to christian powell paper is positions 17 to 46 for ALIGNED eutherian p1 sequences\n",
    "#ALIGNED sequences are each 64 positions total\n",
    "#i apply below function to non-aligned sequences, so i set my upper bound and lower bound for binding region,-\n",
    "# - by taking two fractions 17/64 and 46/64 and applying these as lower & upper bound for non-aligned sequence\n",
    "    order_p=list()\n",
    "    powell_lower_bound_for_aligned_sequence=18\n",
    "    powell_upper_bound_for_aligned_sequence=50\n",
    "#below variable (powell_total_length_aligned_sequence) is made\n",
    "#by taking length of a single sequence in list of aligned sequences with unnecessary positions removed\n",
    "    powell_total_length_of_aligned_sequence=len(list_of_aligned_sequence[0])\n",
    "    powell_lower_fraction=powell_lower_bound_for_aligned_sequence/powell_total_length_of_aligned_sequence\n",
    "    powell_upper_fraction=powell_upper_bound_for_aligned_sequence/powell_total_length_of_aligned_sequence\n",
    "    for sequence in range(0,len(protamine_sequence)):\n",
    "        lower_bound=round(powell_lower_fraction*len(protamine_sequence[sequence]['_SQ']))\n",
    "        upper_bound=round(powell_upper_fraction*len(protamine_sequence[sequence]['_SQ']))\n",
    "#        print(e_p1_list[sequence]['_SQ'][0:lower_bound]+termcolor.colored(e_p1_list[sequence]['_SQ'][lower_bound:(upper_bound+1)],color='yellow',on_color='on_grey')+e_p1_list[sequence]['_SQ'][(upper_bound+1):len(e_p1_list[sequence]['_SQ'])])\n",
    "        order_p.append(order_parameter(protamine_sequence[sequence]['_SQ'][lower_bound:upper_bound]))\n",
    "    return order_p"
   ]
  },
  {
   "cell_type": "code",
   "execution_count": 11,
   "metadata": {
    "scrolled": false
   },
   "outputs": [
    {
     "name": "stdout",
     "output_type": "stream",
     "text": [
      "The average for whole fish is 0.21017050544914323\n",
      "The average for binding region of p1 is 0.13773729689524494\n",
      "The average for whole eutherian p1 sequences is 0.0015294459327693738\n"
     ]
    },
    {
     "data": {
      "image/png": "[encoded data removed]",
      "text/plain": [
       "<Figure size 432x432 with 3 Axes>"
      ]
     },
     "metadata": {
      "needs_background": "light"
     },
     "output_type": "display_data"
    }
   ],
   "source": [
    "fig,ax=plt.subplots(nrows=2,ncols=2,figsize=(6,6))\n",
    "p1_sequence_order_parameter_bindingregion=sequence_order_parameter_bindingregion(e_p1_list,ep1_align.alignment_matrix)\n",
    "fish_sequence_order_parameter=sequence_order_parameter(fish_list)\n",
    "p1_sequence_order_parameter=sequence_order_parameter(e_p1_list)\n",
    "x_lim_min = min([min(fish_sequence_order_parameter),min(p1_sequence_order_parameter),min(p1_sequence_order_parameter_bindingregion)])\n",
    "x_lim_max = max([max(fish_sequence_order_parameter),max(p1_sequence_order_parameter),max(p1_sequence_order_parameter_bindingregion)])\n",
    "ax[0,0].hist(fish_sequence_order_parameter,\n",
    "                color='blue',\n",
    "                    alpha=0.5,\n",
    "                edgecolor='black',density=False,\n",
    "        weights=np.ones(len(fish_sequence_order_parameter)) / len(fish_sequence_order_parameter),label='Fish')\n",
    "ax[0,0].set_xlabel('Sequence Order Parameter',fontsize=10)\n",
    "ax[0,0].set_ylabel('Fraction of Sequences',fontsize=10)\n",
    "plt.setp(ax[0,0].get_xticklabels(),fontsize=9.5)\n",
    "plt.setp(ax[0,0].get_yticklabels(),fontsize=9.5)\n",
    "#ax[0,0].text(.92,.93,'Fish',fontsize=9,\n",
    "#        horizontalalignment='center',\n",
    "#        transform=ax[0,0].transAxes)\n",
    "ax[0,0].set_xlim(x_lim_min,x_lim_max)\n",
    "ax[0,0].set_title('Fish')\n",
    "ax[1,0].hist(p1_sequence_order_parameter_bindingregion,\n",
    "                color='blue',\n",
    "                    alpha=0.5,\n",
    "                edgecolor='black',density=False,\n",
    "         weights=np.ones(len(p1_sequence_order_parameter_bindingregion)) / len(p1_sequence_order_parameter_bindingregion),label='Eutherian P1')\n",
    "ax[1,0].set_xlabel('Sequence Order Parameter',fontsize=10)\n",
    "ax[1,0].set_ylabel('Fraction of Sequences',fontsize=10)\n",
    "plt.setp(ax[1,0].get_xticklabels(),fontsize=9.5)\n",
    "plt.setp(ax[1,0].get_yticklabels(),fontsize=9.5)\n",
    "#ax[1,0].text(.8,.93,'Eutherian P1',fontsize=9,\n",
    "#        horizontalalignment='center',\n",
    "#        transform=ax[1,0].transAxes)\n",
    "#ax[1,0].text(.76,.83,'Binding Region',fontsize=9,\n",
    "#        horizontalalignment='center',\n",
    "#        transform=ax[1,0].transAxes)\n",
    "ax[1,0].set_title('P1: Binding Region')\n",
    "ax[1,0].set_xlim(x_lim_min,x_lim_max)\n",
    "ax[1,1].hist(p1_sequence_order_parameter,\n",
    "                color='blue',\n",
    "                    alpha=0.5,\n",
    "                edgecolor='black',density=False,\n",
    "         weights=np.ones(len(p1_sequence_order_parameter)) / len(p1_sequence_order_parameter),label='Eutherian P1')\n",
    "ax[1,1].set_xlabel('Sequence Order Parameter',fontsize=10)\n",
    "ax[1,1].set_ylabel('Fraction of Sequences',fontsize=10)\n",
    "plt.setp(ax[1,1].get_xticklabels(),fontsize=9.5)\n",
    "plt.setp(ax[1,1].get_yticklabels(),fontsize=9.5)\n",
    "#ax[1,1].text(.8,.93,'Eutherian P1',fontsize=9,\n",
    "#        horizontalalignment='center',\n",
    "#        transform=ax[1,1].transAxes)\n",
    "#ax[1,1].text(.83,.83,'Whole Seq',fontsize=9,\n",
    "#        horizontalalignment='center',\n",
    "#        transform=ax[1,1].transAxes)\n",
    "ax[1,1].set_title('P1: whole sequence')\n",
    "ax[1,1].set_xlim(x_lim_min,x_lim_max)\n",
    "print('The average for whole fish is',\n",
    "      sum(fish_sequence_order_parameter)/len(fish_sequence_order_parameter))\n",
    "print('The average for binding region of p1 is',\n",
    "      sum(p1_sequence_order_parameter_bindingregion)/len(p1_sequence_order_parameter_bindingregion))\n",
    "print('The average for whole eutherian p1 sequences is',\n",
    "      sum(p1_sequence_order_parameter)/len(p1_sequence_order_parameter))\n",
    "ax[0,1].remove()\n",
    "fig.tight_layout()\n",
    "\n"
   ]
  },
  {
   "cell_type": "code",
   "execution_count": 37,
   "metadata": {
    "scrolled": true
   },
   "outputs": [
    {
     "name": "stdout",
     "output_type": "stream",
     "text": [
      "MARHRCCRSR--SQSRS\u001b[40m\u001b[33mR-R--DRQKRRCR-TPRRRSCRR--RTA-R\u001b[0mRCGRRR--YKPRCRRN-\n",
      "MARYSCCRSH--SRSRS\u001b[40m\u001b[33mR-R---R-RQRCR-RRRRRSCGR--RR--R\u001b[0mACYRRYTVRYRRRRRRR\n",
      "MARYRCCRSH--SRSRC\u001b[40m\u001b[33mR-R---R-RRRSR-RRRRRSCGR--RR--R\u001b[0mAGYRRY---TVRYRRRR\n",
      "MARYRCCLTH--SRSRC\u001b[40m\u001b[33mRPR---RRRRRCR-KLRRRFCRR-PRR--R\u001b[0mVCCRRY--TAIRCTR--\n",
      "MARYRCRLTH--SRSGC\u001b[40m\u001b[33mR-R---RRRRRCR-RRRRRFCRR--RRR-R\u001b[0mVCCRRY--TVVRCTRQ-\n",
      "MARYRCCLTH--SRSRC\u001b[40m\u001b[33mR-R---RRRRRCR-RRRRRFGRR--RRR-R\u001b[0mVCCRRY--TVVRCTRQ-\n",
      "MARYRCCLTH--SRSRC\u001b[40m\u001b[33mR-R---RRRRRCR-RRRRRFGRR--RRR-R\u001b[0mVCCRRY--TVVRCTRQ-\n",
      "MARYRCCLTH--SRSRC\u001b[40m\u001b[33mR-R---RRRRRCR-RRRRRFGRR--RRR-R\u001b[0mVCCRRY--TVVRCTRQ-\n",
      "MARYRCCLTH--SGSRC\u001b[40m\u001b[33mR-R---RRRRRCR-RRRRRFGRR--RRR-R\u001b[0mVCCRRY--TVIRCTRQ-\n",
      "MARYRCCLTH--SGSRC\u001b[40m\u001b[33mR-R---RRRRRCR-RRRRRFGRR--RRR-R\u001b[0mVCCRRY--TVIRCTRQ-\n",
      "MARYRCCLTH--SGSRC\u001b[40m\u001b[33mR-R---RRRRRCR-RRRRRFGRR--RR---\u001b[0m----RR-----------\n",
      "MARNRCCRSQ--SRSRC\u001b[40m\u001b[33mR-R---P-KRGCR-SRRRRCYQR--RR--R\u001b[0mVCCRRY--TTIRCARQ-\n",
      "MARNRCCRSQ--SRSRC\u001b[40m\u001b[33mR-R---P-RRRCR-SPRRRRYQR--RR--R\u001b[0mVCCRRY--TVTRCARQ-\n",
      "MARNRCCRSQ--SRGRC\u001b[40m\u001b[33mR-R---P-RRRCR-SPKRRRYQR--RR--R\u001b[0mVCCRRS--ATMRCASQ-\n",
      "MARNRCCRSQ--SRGRC\u001b[40m\u001b[33mR-R---P-RRRYR-SPRRRRYQR--RR--R\u001b[0mVCCRRS--TTMRCASQ-\n",
      "MARYRCCRSH--SRSRC\u001b[40m\u001b[33mR-P---R-RRRCR-RRRRRCCPR--RRR-A\u001b[0mVCCRRY--TVIRCRRC-\n",
      "MARYRCCRSH--SRSRC\u001b[40m\u001b[33mR-P---R-RRRCR-RRRRRCCPR--RRR-A\u001b[0mVCCRRY--TVIRCRRC-\n",
      "MARYRCCRSH--SRSRC\u001b[40m\u001b[33mR-R---R-RRRCR-RRRRRCCRR-PRK--R\u001b[0mVCSRRY--RVGRCRRR-\n",
      "MARYRCCRSR--SRSRC\u001b[40m\u001b[33mR-R---R-RRKCY-RRRRRCSRK--RRR-R\u001b[0mVCCRRY--TVMRCRRR-\n",
      "MARYRCCRSP--SRSRC\u001b[40m\u001b[33mR-R---Q-RRRCR-RRRRRCCRQ--RRR-R\u001b[0mVCCRRY--TMVRCTRQ-\n",
      "MARYRCCRSP--SRSRC\u001b[40m\u001b[33mR-R---Q-RRRCR-RRRRRCCRQ--RRR-R\u001b[0mVCCRRY--TMVRCTRQ-\n",
      "MARYRCCRSQ--SQSRC\u001b[40m\u001b[33mR-R---RRRRRCR-RRRRRCVRR--RR---\u001b[0mVCCRRY--TVLRCRRRR\n",
      "MARYRCCRSQ--SQSRC\u001b[40m\u001b[33mR-R---RRRRRCR-RRRRRSVRQ--RR---\u001b[0mVCCRRY--TVLRCRRRR\n",
      "MARYRRCR----SRSRC\u001b[40m\u001b[33mR-R---R-RRRCH-RRRRRCCRR--RRRRR\u001b[0mACCRRY-----RCRRR-\n",
      "MARYRRCR----SRSRC\u001b[40m\u001b[33mR-R---R-RRRCH-RRRRRCCRR--RRRRR\u001b[0mACCRRY-----RCRRR-\n",
      "MARYRCCRSR--SRSRC\u001b[40m\u001b[33mRPR-----RRRCR-RRRRRCCRR--RR--R\u001b[0mVCCRRY---SARCRRRR\n",
      "MARYRCCR----SRSRC\u001b[40m\u001b[33mR-R---R-RRRCH-RRRRRCSRR--RRR-R\u001b[0mVCCRRY--TVIRCRRR-\n",
      "MARYRCCRSP--SRSRC\u001b[40m\u001b[33mR-R---R-RRRCR-RRRRRCCRR--RR--R\u001b[0mVCCRRY---TVRCRRR-\n",
      "MARYRCCRSP--SRSRC\u001b[40m\u001b[33mR-R---R-RRRCR-RRRRRCCRR--RR--R\u001b[0mVCCRRY---TVRCRRR-\n",
      "MARYRCCRSP--SRSRC\u001b[40m\u001b[33mR-R---R-RRRCR-RRRRRCCRR--RR--R\u001b[0mVCCRRY---TVRCRRR-\n",
      "MARYRCCRSP--SRSRC\u001b[40m\u001b[33mR-R---R-RRRCR-RRRRRSCRR--RR--R\u001b[0mVCCRRY---TVRCRRR-\n",
      "MARYRCCR----SRSRC\u001b[40m\u001b[33mR-R---R-RRRCY-RRRRRCCRR--RRRRR\u001b[0mVCCRRY----SRCRRR-\n",
      "MARYRCCR----SRSRC\u001b[40m\u001b[33mR-R---R-RRRCY-RRRRRCCRR--RRRRR\u001b[0mVCCRRY----SRCRRR-\n",
      "MARYRCCR----SRSRC\u001b[40m\u001b[33mR-R---R-RRRSY-RRRRRCCRR--RRR-R\u001b[0mVCCRRY----VRCRRR-\n",
      "MARYRCCRSQ--SRSRC\u001b[40m\u001b[33mR-P---R-RRRCR-TRRRRCCRR-RRR--R\u001b[0mVCCRRY--TVVRCRRR-\n",
      "MARYRCCRSQ--SRSRC\u001b[40m\u001b[33mR-R---R-RRRCR-TRRRRCCRR-RRR--R\u001b[0mVCCRRY--TVVRCRRR-\n",
      "MARYRCCR----SRSRC\u001b[40m\u001b[33mR-R---R-RRRCY-RRRRRCCRR-RRR--R\u001b[0mVCCRRY--TVIRCRRR-\n",
      "MARYRCCR----SRSRC\u001b[40m\u001b[33mR-R---R-RRRCY-RRRRRCCRR-RRR--R\u001b[0mVCCRRY--TVIRCRRR-\n",
      "MARYRCCRSQ--SRSRC\u001b[40m\u001b[33mR-R---R-RRRCY-RRRRRCCRR--RRR-R\u001b[0mVCCRRY----TRYRRR-\n",
      "MARYRCCRSQ--SRSRC\u001b[40m\u001b[33mR-R---R-RRRCY-RRRRRCCRR-RRR--R\u001b[0mVCCRRY--TVVRCRRR-\n",
      "MARYRCCRSQ--SRSRC\u001b[40m\u001b[33mR-R---R-RRRCR-RRRRRCCRR--RR--R\u001b[0mVCCRRY---TVRCRRRR\n",
      "MARYRCCRSQ--SRSRC\u001b[40m\u001b[33mR-R---R-RRRCR-RRRRRCCRRRRR---R\u001b[0mVCCRRY--TVVRCRRR-\n",
      "MARNRCCRSQ--SRSRR\u001b[40m\u001b[33mR-R---P-RQRCR-SQRRRCCRR--RR--R\u001b[0mVCCRRY--TTVRCARR-\n",
      "MARNRCCRSQ--SRSRR\u001b[40m\u001b[33mR-R---P-RQRCR-SQRRRCCRR--RR--R\u001b[0mVCCRRY--TTVRCARR-\n",
      "MARNRCCRSQ--SRSRR\u001b[40m\u001b[33mR-R---P-RQRCR-SQRRRCCRR--RR--R\u001b[0mVCCRRY--TTVRCARR-\n",
      "MARNRCCRSQ--SRSRR\u001b[40m\u001b[33mR-R---P-RQRCR-SQRRRCCRR--RR--R\u001b[0mVCCRRY--TTVRCARR-\n",
      "MARNRCCRSQ--SRSRR\u001b[40m\u001b[33mR-R---P-RQRCR-SQRRRCCRR--RR--R\u001b[0mVCCRRY--TTVRCARQ-\n",
      "MARNSCCRSP--SRSRR\u001b[40m\u001b[33mR-R---P-RQRRR-SQRRRCCQR--RR--R\u001b[0mVCCRRY--TTVRCARQ-\n",
      "MARNSCCRSP--SRSRR\u001b[40m\u001b[33mR-R---P-RQRRR-SQRRRCCQR--RR--R\u001b[0mVCCRRY--TTVRCARQ-\n",
      "MARNSCCRSP--SRSRR\u001b[40m\u001b[33mR-R---P-RQRCR-SQRRRCCRR--RR--R\u001b[0mVCCRRY--TTVRCAGQ-\n",
      "MARNSCCRSP--SRSRR\u001b[40m\u001b[33mR-R---P-RQRCR-SQRRRCCRR--RR--R\u001b[0mVCCRRY--TTVRCAGQ-\n",
      "MARNSCCRSP--SRSRR\u001b[40m\u001b[33mR-R---P-RQRCR-SQRRRCCRR--RR--R\u001b[0mVCCRRY--TTVRCARQ-\n",
      "MARNSCCRSP--SRSRR\u001b[40m\u001b[33mR-R---P-RQRCR-SQRRRCCRR--RR--R\u001b[0mVCCRRY--TTVRCARQ-\n",
      "MARNSCCRSP--SRSRR\u001b[40m\u001b[33mR-R---P-RQRCR-SQRRRCCRR--RR--R\u001b[0mVCCRRY--TTVRCARQ-\n",
      "MARNTCCRSP--SRSRR\u001b[40m\u001b[33mR-R---P-RQRCR-SQRRRCCRR--RR--R\u001b[0mVCCRRY--TTVRCARQ-\n",
      "MARNRCCRSQ--SQSRR\u001b[40m\u001b[33mR-R---P-RRRNR-SRRRQCCQR--RR--R\u001b[0mVCCRRY--TAIRCARQ-\n",
      "MARNRCCRGQ--SQSRR\u001b[40m\u001b[33mR-R---P-RRRYR-SRRRQCCQK--RR--R\u001b[0mVCCRRY--TATRCARQ-\n",
      "MARNTCCRSQ--SQSRR\u001b[40m\u001b[33mR-R---P-RRRYR-SRRKQCCQK--RR--R\u001b[0mVCCRRY--TAIRCARQ-\n",
      "MARNRCCRSQ--SQSRR\u001b[40m\u001b[33mR-R---P-RRRYR-SRRRQCCQK--RR--R\u001b[0mVCCRRY--TAIRCARQ-\n",
      "MARNRCCRSQ--SQSRR\u001b[40m\u001b[33mR-R---P-RRRYR-SRRRQCCQK--RR--R\u001b[0mVCCRRY--TAIRCARQ-\n",
      "MARNRCCRSQ--SQSRR\u001b[40m\u001b[33mR-R---P-RRRYR-SRRKQCCQK--RR--R\u001b[0mVCCRRY--TAIRCARQ-\n",
      "MARNR-CRSP--SQSRC\u001b[40m\u001b[33mR-R---P-RRRCR--RRIRCCRR--QR--R\u001b[0mVCCRRY--TTTRCARQ-\n",
      "MARNR-CRSP--SQSRC\u001b[40m\u001b[33mR-R---P-RRRYR--RRRQCCRR--RR--R\u001b[0mVCCRRY--TTTRCARQ-\n",
      "MARNR-CRSP--SQSRC\u001b[40m\u001b[33mR-R---P-RRRYR--RRRQCCRR--RR--R\u001b[0mVCCRRY--TTTRCARQ-\n",
      "MARNR-CRSP--SQSRC\u001b[40m\u001b[33mR-R---P-RRRYR--RRRQCCRR--RR--R\u001b[0mVCCRRY--TTTRCARQ-\n",
      "MARNR-CRSP--SQSRC\u001b[40m\u001b[33mR-R---P-RRRYR--RRRRCCRR--RR--R\u001b[0mVCCRRY--TTTRCARQ-\n",
      "MARNR-CRSP--SQSRC\u001b[40m\u001b[33mR-R---P-RRRYR--RRRRCCRR--RR--R\u001b[0mVCCRRY--TTTRCARQ-\n",
      "MARNR-CRSP--SQSRC\u001b[40m\u001b[33mR-R---P-RRRCL--RRRRCCRR--RR--R\u001b[0mVCCRRY--TTTRCAR--\n",
      "MARNR-CRSP--SQSRC\u001b[40m\u001b[33mR-R---P-RRRCR--RRRRCCRR--RR--R\u001b[0mVCCRRY--ATTRCARQ-\n",
      "MARNR-CRSP--SQSRC\u001b[40m\u001b[33mR-R---P-RRRCR--RRRRCCRR--RR--R\u001b[0mVCCRRY--TTTRCASQ-\n",
      "MARNR-CRSP--SQSRC\u001b[40m\u001b[33mR-R---P-RRRCR--RRRLCCRR--RR--R\u001b[0mVCCRRY--TTTRCARQ-\n",
      "MARNR-CRSP--SQSRC\u001b[40m\u001b[33mR-R---P-RRRCR--RRRLCCRR--RR--R\u001b[0mVCCRRY--TTTRCARQ-\n",
      "MARNR-CRSP--SQSRC\u001b[40m\u001b[33mR-R---P-RRRCR--RRRLCCRR--RR--R\u001b[0mVCCRRY--TTTRCARQ-\n",
      "MARNR-CRSP--SQSRC\u001b[40m\u001b[33mR-R---P-RRRCR--RRRRCCRR--RR--R\u001b[0mVCCRRY--TTTRCAR--\n",
      "MARNR-CRSP--SQSRC\u001b[40m\u001b[33mR-R---P-RRRCR--RRRRCCRR--RR--R\u001b[0mVCCRRY--TTTRCAR--\n",
      "MARNR-CRSP--SQSRC\u001b[40m\u001b[33mR-R---P-RRRCR--RRRRCCRR--RR--R\u001b[0mVCCRRY--TTTRCAR--\n",
      "MARNR-CRSP--SQSRC\u001b[40m\u001b[33mR-R---P-RRRCR--RRRRCCRR--RR--R\u001b[0mVCCRRY--TTTRCAR--\n",
      "MARNR-CRSP--SQSRC\u001b[40m\u001b[33mR-R---P-RRRCR--RRRRCCRR--RR--R\u001b[0mVCCRRY--TTTRCARQ-\n",
      "MARNR-CRSP--SQSRC\u001b[40m\u001b[33mR-R---P-RRRCR--RRRRCCRR--RR--R\u001b[0mVCCRRY--TTTRCARQ-\n",
      "MARNR-CRSP--SQSRC\u001b[40m\u001b[33mR-R---P-RRRCR--RRRRCCRR--RR--R\u001b[0mVCCRRY--TTTRCAR--\n",
      "MARNR-CRSP--SQSRC\u001b[40m\u001b[33mR-R---P-RRRCR--RRRRCCRR--RR--R\u001b[0mVCCRRY--TTTRCARQ-\n",
      "MARNR-CRSP--SQSRC\u001b[40m\u001b[33mR-R---P-RRRCR--RRRRCCRR--RR--R\u001b[0mVCCRRY--TTTRCAR--\n",
      "MARNR-CRSP--SQSRC\u001b[40m\u001b[33mR-R---P-RRRCR--RRRRCCRR--RR--R\u001b[0mVCCRRY--TTTRCAR--\n",
      "MARNR-CRSP--SQSRC\u001b[40m\u001b[33mR-R---P-RRRCR--RRRRCCRR--RR--R\u001b[0mVCCRRY--TTTRCARQ-\n",
      "MARNR-CRSP--SQSRC\u001b[40m\u001b[33mR-R---P-RRRCR--RRRRCCRR--RR--R\u001b[0mVCCRRY--TTTRCAR--\n",
      "MARNR-CRSP--SQSRG\u001b[40m\u001b[33mR-C---P-RRRYR-SKRRRCCQR--RR--R\u001b[0mVCRRRY---TRRCARQ-\n",
      "MARNR-CRSP--SQSRG\u001b[40m\u001b[33mR-C---P-RRRYR-SKRRRCCQR--RR--R\u001b[0mVCRRRY---TRRCARQ-\n",
      "MARNR-CRSP--SQSRG\u001b[40m\u001b[33mR-C---P-RRRYR-SKRRRCCQR--RR--R\u001b[0mVCRRRY---TRRCARQ-\n",
      "MARNR-CRSP--SQSRG\u001b[40m\u001b[33mR-R---P-RRKYR-SRRRRCCQR--RR--R\u001b[0mVCCRRY--TTMRCAKQ-\n",
      "MARNR-CRSP--SQSRG\u001b[40m\u001b[33mR-R---P-RRRYR-SKRRRCCQR--RR--R\u001b[0mVCCRRY--TTTRCARQ-\n",
      "MARTR-CRSP--SQSRG\u001b[40m\u001b[33mR-R---P-RRRYR-SKRRRCCQR--RR--R\u001b[0mVCCRRY--TTTRCARQ-\n",
      "MARNR-CRSP--SQNRG\u001b[40m\u001b[33mR-R---P-RRRYR-SRRRRCCQR--RR--R\u001b[0mVCCRRY--TSVRCARQ-\n",
      "MARNR-CRSP--SQSRG\u001b[40m\u001b[33mR-R---P-RRRYR-SRRRRCCQR--RR--R\u001b[0mVCCRRY--TTVRCARQ-\n",
      "MARYRCCRSR--SRSRC\u001b[40m\u001b[33mRSR---R-RRRSH-RRRRRCARR--RRRTR\u001b[0mRGCRRR--YSLRRRRY-\n",
      "MARYRCCRSQ--SQSRC\u001b[40m\u001b[33mC-R---R-RQRCH-RRRRRCCQT--RRRAM\u001b[0mRCCRRR--YRLRCRRH-\n",
      "MARYRCCRSQ--SQSRC\u001b[40m\u001b[33mC-R---R-RQRCH-RRRRRCCQT--RRRAM\u001b[0mRCCRRR--YRLRCRRH-\n",
      "MARYRCCR----SRSRC\u001b[40m\u001b[33mR-R---R-RRSCR--RRRRCRRR--RA--R\u001b[0mRSCRRR--YSLRCCRRY\n",
      "MARYRCCRSQ--SRSRC\u001b[40m\u001b[33mY-R---Q-RRRGR-RRRRRTCRR--RRA-S\u001b[0mRCCRRR--YKLTCRRY-\n",
      "MARYRCCRSQ--SRSRC\u001b[40m\u001b[33mY-R---Q-RRRGR-RRRRRSCRR--RRA-S\u001b[0mRCCRRR--YKLPCRRY-\n",
      "MARYRCCRSRSLSRSRC\u001b[40m\u001b[33mY-R---Q-RPRCR-RRRRRSCRR-PRA--S\u001b[0mRCCRRR--YRLRRRRY-\n",
      "MARYRCCRSR--SRSRC\u001b[40m\u001b[33mY-R---R-RRRCR-TRRRRCCRR--RRA-R\u001b[0mRCCRRR--YKLRCRRY-\n",
      "MARYRCCRSR--SRSRC\u001b[40m\u001b[33mY-R---R-RRRCR-TRRRRCCRR--RRA-R\u001b[0mRCCRRR--YKLRCRRY-\n",
      "MARYRCCRSR--SRSRC\u001b[40m\u001b[33mY-R---Q-RRRCR-RRRRRCRSR--RA--R\u001b[0mRCCRRR--YRLRCRRY-\n",
      "MVRYRCCRSQ--SRSRC\u001b[40m\u001b[33mR-R---R-RRRCR-RRRRRCCQR--RRV-R\u001b[0mKCCRRT--YTLRCRRY-\n",
      "MARYRCCRSP--SRSRC\u001b[40m\u001b[33mR-R---R-RRRFY-RRRRRCHRR--RR---\u001b[0mRCCRRR--YTRRCKRY-\n",
      "MARYRCRRSQ--SRSRC\u001b[40m\u001b[33mC-R---Q-RRRCR-RRRRQRFRA--RKRAM\u001b[0mRCCHRR--YRLRCRRY-\n",
      "MARYRCCRSQ--SRSRC\u001b[40m\u001b[33mS-RRRYR-RRRCR-RRRRRSCRR--RRRR-\u001b[0mACCRYR--Y----RRY-\n",
      "MARYRCCRSK--SRSRC\u001b[40m\u001b[33mR-R---R-RRRCR-RRRRRCCQR--RR--R\u001b[0mRCCRRRRSYTIRCKKY-\n",
      "MARYRCCRSK--SRSRC\u001b[40m\u001b[33mR-R---R-RRRCR-RRRRRCCRR--RR--R\u001b[0mRCCRRRRSYTIRCKKY-\n",
      "MARYRCCRSK--SRSRC\u001b[40m\u001b[33mR-R---R-RRRCR-RRRRRCCRR--RR--R\u001b[0mRCCRRRRSYTIRCKKY-\n",
      "MARYRCCRSK--SRSRC\u001b[40m\u001b[33mR-R---R-RRRCR-RRRRRCCRR--RR--R\u001b[0mRCCRRRRSYTIRCKKY-\n",
      "MARYRCCRSK--SRSRC\u001b[40m\u001b[33mR-R---R-RRRCR-RRRRRCCRR--RR--R\u001b[0mRCCRRRRSYTIRCKKY-\n",
      "MARYRCCRSK--SRSRC\u001b[40m\u001b[33mR-R---R-RRRCR-RRRRRCCRR--RR--R\u001b[0mRCCRRRRSYTIRCKKY-\n",
      "MARYRCCRSK--SRSRC\u001b[40m\u001b[33mR-R---R-RRRCR-RRRRRCCRR--RR--R\u001b[0mRCCRRRRSYTIRCKKY-\n",
      "MARYRCCRSK--SRSRC\u001b[40m\u001b[33mR-R---R-RRRCR-RRRRRCCRR--RR--R\u001b[0mRCCRRRRSYTIRCKKY-\n",
      "MARYRCCRSK--SRSRC\u001b[40m\u001b[33mR-R---R-RRRCR-RRRRRCCRR--RR--R\u001b[0mRCCRRRRSYTIRCKKY-\n",
      "MARYRCCRSK--SRSRC\u001b[40m\u001b[33mR-R---R-RRRCR-RRRRRCCRR--RR--R\u001b[0mRCCRRRRSYTIRCKKY-\n",
      "MARYRCCRSK--SRSRC\u001b[40m\u001b[33mR-R---R-RRRCR-RRRRRCCRR--RR--Q\u001b[0mRCCRRRRSYTIRCKKY-\n",
      "MARYRCCRSK--SRSRC\u001b[40m\u001b[33mR-R---R-RRRCR-RRRRRCCRR--RR--R\u001b[0mRCCRRRRSYTFRCKRY-\n",
      "MARYRCCRSK--SRSRC\u001b[40m\u001b[33mR-R---R-RRRCRSRRRRRCCRR--RR--R\u001b[0mRCCRRRRSYTIRCKRY-\n",
      "MAKSRCCGSQ--SRSRC\u001b[40m\u001b[33mC-R---P-RQRCR-RRRRRSCRA--RRRAM\u001b[0mRCCRRR--YRLRCRRY-\n",
      "MARYRRCRSQ--SRSRC\u001b[40m\u001b[33mC-R---P-RRRCR-RRRRQSCRA--RRRAT\u001b[0mRCCRRR--YRLRCRRY-\n",
      "MARYRCCRSQ--SRSRC\u001b[40m\u001b[33mC-R---P-RRRCR-RRRRRSCRA--RRRAT\u001b[0mRCCRRR--YRL-SRRY-\n",
      "MARYRCCRSQ--SRSRC\u001b[40m\u001b[33mC-R---P-RRRCR-RRRRRSCRA--RRRAT\u001b[0mRCCRRR--YRL-SRRY-\n",
      "MARYRCCRSQ--SRSRC\u001b[40m\u001b[33mC-R---P-RRRCR-RRRRRSCRA--RRRAT\u001b[0mRCCRRR--YRLRSRRY-\n",
      "MARYRCCRSQ--SRSRC\u001b[40m\u001b[33mC-R---P-RRRCR-RRRRRSCRA--RRRAT\u001b[0mRCCRRR--YRLRSRRY-\n",
      "MARYRCCRSQ--SRSRC\u001b[40m\u001b[33mC-R---P-RRRCR-RRRRRSCRA--RRRAT\u001b[0mRCCRRR--YRLRSRRY-\n",
      "MARYRCCRSQ--SRSRC\u001b[40m\u001b[33mC-R---P-RRRCR-RRRRRSCRA--RRRAT\u001b[0mRCCRRR--YRLRSRRY-\n",
      "MARYRRCRSQ--SRSRC\u001b[40m\u001b[33mC-R---P-RRRCR--RRRRSCRA--RRRAT\u001b[0mRCCRRR--YRLRCRRY-\n",
      "MARYRRCRSQ--SRSRC\u001b[40m\u001b[33mC-R---P-RRRCR--RRRRSCRA--RRRAT\u001b[0mRCCRRR--YRLRCRRY-\n",
      "MARYRCCRSQ--SRSRC\u001b[40m\u001b[33mC-R---P-RRRCR-RRRRRSCRA--RRRAT\u001b[0mRCCRRR--YRLRCRRY-\n",
      "MARYRCCRSQ--SRSRC\u001b[40m\u001b[33mC-R---P-RRRCR-RRRRRSCRA--RRRAT\u001b[0mRCCRRR--YRLRCRRY-\n",
      "MARYRCCRSQ--SRSRC\u001b[40m\u001b[33mC-R---P-RRRCR-RRRRRSCRA--RRRAT\u001b[0mRCCRRR--YRLRCRRY-\n",
      "-------RSQ--SRSRC\u001b[40m\u001b[33mC-R---P-RRRCR--RRRRSCRA--RRRAT\u001b[0mRCCRRR--YRLRCRRY-\n",
      "-------RSQ--SRSRC\u001b[40m\u001b[33mC-R---P-RRRCR--RRRRSCRA--RRRAT\u001b[0mRCCRRR--YRLRCRRY-\n",
      "MARYRCCRSQ--SRSRC\u001b[40m\u001b[33mR-R---R-RRRCR-RRRRRCCRR--RR--R\u001b[0mRCCRRR--YRLRCRRY-\n",
      "MARYRCCRSQ--SRSRC\u001b[40m\u001b[33mC-R---R-RRRCR-RRRRQRCRA--RRTAM\u001b[0mRCCRRR--YRRRCRRY-\n",
      "MARYRCCRSQ--SRSRC\u001b[40m\u001b[33mC-R---R-RRRCR-RRRRRRCRA--RRRAM\u001b[0mRCCRRR--YRLRCRRY-\n",
      "MARYRCCRSQ--SRSRC\u001b[40m\u001b[33mC-R---R-RRRCR-RRRRRRCRA--RRRAM\u001b[0mRCCRRR--YRLRCRRY-\n",
      "MARYRCCRSQ--SRSRC\u001b[40m\u001b[33mC-R---Q-RRRCR-RRRRRRCRA--RRRAM\u001b[0mRCCRRR--YRLRCRRY-\n",
      "MARYRCCRSQ--SRSRC\u001b[40m\u001b[33mY-R---R-GQRSR-RRRRRSCQT--RRRAM\u001b[0mRCCRPR--YRLRRRRH-\n",
      "MARYRCCRSQ--SRSRY\u001b[40m\u001b[33mY-R---Q-RQRSR-RRRRRSCQT--RRRAM\u001b[0mRCCRPR--YRPRCRRH-\n",
      "MARYRCCRSQ--SRSRC\u001b[40m\u001b[33mY-R---Q-RQTSR-RRRRRSCQT--QRRAM\u001b[0mRCCRRR--NRLRRRKH-\n",
      "MARYRCCRSQ--SRSRC\u001b[40m\u001b[33mY-R---Q-RQRSR-RRKRQSCQT--QRRAM\u001b[0mRCCRRR--SRMRRRRH-\n",
      "MARYRCCRSQ--SRSRC\u001b[40m\u001b[33mY-R-----QRRSR-RRKRQSCQT--QRRAM\u001b[0mRCCRRR--SRLRRRRH-\n"
     ]
    }
   ],
   "source": [
    "#this is for eutherian P1 sequences only, based on aligned eutherian p1 on powell paper\n",
    "lower_bound_aligned=17\n",
    "upper_bound_aligned=46\n",
    "for sequence in ep1_align.alignment_matrix:\n",
    "    sequence=''.join(sequence)\n",
    "    print(sequence[0:lower_bound_aligned]+termcolor.colored(sequence[lower_bound_aligned:(upper_bound_aligned+1)],color='yellow',on_color='on_grey')+sequence[(upper_bound_aligned+1):len(sequence)])\n",
    "    "
   ]
  },
  {
   "cell_type": "code",
   "execution_count": 7,
   "metadata": {},
   "outputs": [
    {
     "name": "stdout",
     "output_type": "stream",
     "text": [
      "The average is 0.0015294459327693738\n"
     ]
    }
   ],
   "source": [
    "p1_sequence_order_parameter=sequence_order_parameter(e_p1_list)\n",
    "plt.hist(p1_sequence_order_parameter,\n",
    "                color='violet',\n",
    "                    alpha=0.5,\n",
    "                edgecolor='black',density=False)\n",
    "plt.title('Eutherian P1',fontsize=25)\n",
    "plt.xlabel('Sequence Order Parameter',fontsize=20)\n",
    "plt.ylabel('Frequency',fontsize=20)\n",
    "plt.xticks(fontsize=12)\n",
    "plt.yticks(fontsize=12)\n",
    "print('The average is',sum(p1_sequence_order_parameter)/len(p1_sequence_order_parameter))\n",
    "plt.savefig('figures_for_publication/p1_seq_order_param_frequency.png',dpi=400,bbox_inches='tight')"
   ]
  },
  {
   "cell_type": "code",
   "execution_count": 7,
   "metadata": {},
   "outputs": [
    {
     "name": "stdout",
     "output_type": "stream",
     "text": [
      "The average is 0.0015294459327693738\n"
     ]
    },
    {
     "data": {
      "image/png": "[encoded data removed]",
      "text/plain": [
       "<Figure size 223.2x432 with 2 Axes>"
      ]
     },
     "metadata": {
      "needs_background": "light"
     },
     "output_type": "display_data"
    }
   ],
   "source": [
    "fig,ax=plt.subplots(nrows=2,ncols=1,figsize=(3.1,6))\n",
    "p1_sequence_order_parameter=sequence_order_parameter(e_p1_list)\n",
    "fish_sequence_order_parameter=sequence_order_parameter(fish_list)\n",
    "ax[0].hist(fish_sequence_order_parameter,\n",
    "                color='blue',\n",
    "                    alpha=0.5,\n",
    "                edgecolor='black',density=False,\n",
    "        weights=np.ones(len(fish_sequence_order_parameter)) / len(fish_sequence_order_parameter),label='Fish')\n",
    "ax[0].set_xlabel('Sequence Order Parameter',fontsize=9)\n",
    "ax[0].set_ylabel('Fraction of Sequences',fontsize=9)\n",
    "plt.setp(ax[0].get_xticklabels(),fontsize=8)\n",
    "plt.setp(ax[0].get_yticklabels(),fontsize=8)\n",
    "ax[0].text(.92,.93,'Fish',fontsize=9,\n",
    "        horizontalalignment='center',\n",
    "        transform=ax[0].transAxes)\n",
    "\n",
    "ax[1].hist(p1_sequence_order_parameter,\n",
    "                color='blue',\n",
    "                    alpha=0.5,\n",
    "                edgecolor='black',density=False,\n",
    "         weights=np.ones(len(p1_sequence_order_parameter)) / len(p1_sequence_order_parameter),label='Eutherian P1')\n",
    "ax[1].set_xlabel('Sequence Order Parameter',fontsize=9)\n",
    "ax[1].set_ylabel('Fraction of Sequences',fontsize=9)\n",
    "plt.setp(ax[1].get_xticklabels(),fontsize=8)\n",
    "plt.setp(ax[1].get_yticklabels(),fontsize=8)\n",
    "ax[1].text(.8,.93,'Eutherian P1',fontsize=9,\n",
    "        horizontalalignment='center',\n",
    "        transform=ax[1].transAxes)\n",
    "\n",
    "print('The average is',sum(p1_sequence_order_parameter)/len(p1_sequence_order_parameter))\n",
    "#plt.savefig('figures_for_publication/overall_seq_order_param.png',dpi=400,bbox_inches='tight')"
   ]
  },
  {
   "cell_type": "code",
   "execution_count": 177,
   "metadata": {},
   "outputs": [
    {
     "name": "stderr",
     "output_type": "stream",
     "text": [
      "/public/apps/python/3.7.0/lib/python3.7/site-packages/ipykernel_launcher.py:23: FutureWarning: Using a non-tuple sequence for multidimensional indexing is deprecated; use `arr[tuple(seq)]` instead of `arr[seq]`. In the future this will be interpreted as an array index, `arr[np.array(seq)]`, which will result either in an error or a different result.\n"
     ]
    },
    {
     "data": {
      "text/plain": [
       "array([['M', 'A', 'R', ..., 'R', 'R', 'N'],\n",
       "       ['M', 'A', 'R', ..., 'R', 'R', 'R'],\n",
       "       ['M', 'A', 'R', ..., 'R', 'R', 'R'],\n",
       "       ...,\n",
       "       ['M', 'A', 'R', ..., 'R', 'K', 'H'],\n",
       "       ['M', 'A', 'R', ..., 'R', 'R', 'H'],\n",
       "       ['M', 'A', 'R', ..., 'R', 'R', 'H']], dtype='<U1')"
      ]
     },
     "execution_count": 177,
     "metadata": {},
     "output_type": "execute_result"
    }
   ],
   "source": [
    "remove_position_with_excess_dash(ep1_align.alignment_matrix)"
   ]
  },
  {
   "cell_type": "code",
   "execution_count": 34,
   "metadata": {},
   "outputs": [
    {
     "data": {
      "text/plain": [
       "0.36190476190476195"
      ]
     },
     "execution_count": 34,
     "metadata": {},
     "output_type": "execute_result"
    }
   ],
   "source": [
    "import numpy as np\n",
    "np.array(p1_sequence_order_parameter).max()"
   ]
  },
  {
   "cell_type": "code",
   "execution_count": 9,
   "metadata": {},
   "outputs": [
    {
     "name": "stdout",
     "output_type": "stream",
     "text": [
      "The average is 0.21017050544914323\n"
     ]
    },
    {
     "data": {
      "image/png": "[encoded data removed]",
      "text/plain": [
       "<Figure size 432x288 with 1 Axes>"
      ]
     },
     "metadata": {
      "needs_background": "light"
     },
     "output_type": "display_data"
    }
   ],
   "source": [
    "fish_sequence_order_parameter=sequence_order_parameter(fish_list)\n",
    "plt.hist(fish_sequence_order_parameter,\n",
    "                color='violet',\n",
    "                    alpha=0.5,\n",
    "                edgecolor='black',density=False)\n",
    "plt.title('Fish',fontsize=25)\n",
    "plt.xlabel('Sequence Order Parameter',fontsize=20)\n",
    "plt.ylabel('Frequency',fontsize=20)\n",
    "plt.xticks(fontsize=12)\n",
    "plt.yticks(fontsize=12)\n",
    "print('The average is',sum(fish_sequence_order_parameter)/len(fish_sequence_order_parameter))\n",
    "plt.savefig('figures_for_publication/fish_seq_order_param.png',dpi=400,bbox_inches='tight')"
   ]
  },
  {
   "cell_type": "code",
   "execution_count": 10,
   "metadata": {},
   "outputs": [
    {
     "name": "stdout",
     "output_type": "stream",
     "text": [
      "The average is 0.21017050544914323\n"
     ]
    },
    {
     "data": {
      "image/png": "[encoded data removed]",
      "text/plain": [
       "<Figure size 432x288 with 1 Axes>"
      ]
     },
     "metadata": {
      "needs_background": "light"
     },
     "output_type": "display_data"
    }
   ],
   "source": [
    "fish_sequence_order_parameter=sequence_order_parameter(fish_list)\n",
    "plt.hist(fish_sequence_order_parameter,\n",
    "                color='blue',\n",
    "                    alpha=0.5,\n",
    "                edgecolor='black',density=False,\n",
    "        weights=np.ones(len(fish_sequence_order_parameter)) / len(fish_sequence_order_parameter))\n",
    "plt.title('Fish',fontsize=25)\n",
    "plt.xlabel('Sequence Order Parameter',fontsize=20)\n",
    "plt.ylabel('Fraction of Sequences',fontsize=20)\n",
    "plt.xticks(fontsize=12)\n",
    "plt.yticks(fontsize=12)\n",
    "print('The average is',sum(fish_sequence_order_parameter)/len(fish_sequence_order_parameter))\n",
    "plt.savefig('figures_for_publication/fish_seq_order_param.png',dpi=400,bbox_inches='tight')"
   ]
  },
  {
   "cell_type": "code",
   "execution_count": 32,
   "metadata": {},
   "outputs": [
    {
     "data": {
      "text/plain": [
       "0.6904761904761905"
      ]
     },
     "execution_count": 32,
     "metadata": {},
     "output_type": "execute_result"
    }
   ],
   "source": [
    "np.array(fish_sequence_order_parameter).max()"
   ]
  },
  {
   "cell_type": "code",
   "execution_count": 6,
   "metadata": {},
   "outputs": [
    {
     "name": "stdout",
     "output_type": "stream",
     "text": [
      "Sequence Order parameters:\n",
      "salmon   = 0.25 \n",
      "human P1 = -0.31 \n",
      "bull P1  = 0.28\n",
      "Number of arginines:\n",
      "salmon   = 20 \n",
      "human P1 = 24 \n",
      "bull P1  = 26\n"
     ]
    }
   ],
   "source": [
    "human_p1='ARYRCCRSQSRSRYYRQRQRSRRRRRRSCQTRRRAMRCCRPRYRPRCRRH'\n",
    "bull_p1='ARYRCCLTHSGSRCRRRRRRRCRRRRRRFGRRRRRRVCCRRYTVIRCRR'\n",
    "salmon='MPRRRRSSSRPVRRRRRPRVSRRRRRRGGRRRR'\n",
    "print('Sequence Order parameters:')\n",
    "print('salmon   =',order_parameter(salmon),'\\nhuman P1 =',format(order_parameter(human_p1),'0.2f'),'\\nbull P1  =',format(order_parameter(bull_p1),'0.2f'))\n",
    "print('Number of arginines:')\n",
    "print('salmon   =',count_chars_arg(salmon),'\\nhuman P1 =',count_chars_arg(human_p1),'\\nbull P1  =',count_chars_arg(bull_p1))"
   ]
  },
  {
   "cell_type": "code",
   "execution_count": 21,
   "metadata": {},
   "outputs": [
    {
     "data": {
      "text/plain": [
       "(1.5, 16)"
      ]
     },
     "execution_count": 21,
     "metadata": {},
     "output_type": "execute_result"
    }
   ],
   "source": [
    "count_block_length_number(human_p1)"
   ]
  },
  {
   "cell_type": "markdown",
   "metadata": {},
   "source": []
  },
  {
   "cell_type": "code",
   "execution_count": 12,
   "metadata": {},
   "outputs": [
    {
     "name": "stdout",
     "output_type": "stream",
     "text": [
      "Sequence Order parameters:\tNumber of arginines:\n",
      "salmon   = 0.25 \t\t salmon   = 20 \n",
      "human P1 = -0.31 \t\t human P1 = 24 \n",
      "bull P1  = 0.28 \t\t bull P1  = 26\n"
     ]
    }
   ],
   "source": [
    "print('Sequence Order parameters:\\tNumber of arginines:')\n",
    "print('salmon   =',order_parameter(salmon),'\\t\\t','salmon   =',count_chars_arg(salmon),'\\nhuman P1 =',format(order_parameter(human_p1),'0.2f'),'\\t\\t','human P1 =',count_chars_arg(human_p1),'\\nbull P1  =',format(order_parameter(bull_p1),'0.2f'),'\\t\\t','bull P1  =',count_chars_arg(bull_p1))"
   ]
  },
  {
   "cell_type": "code",
   "execution_count": 13,
   "metadata": {},
   "outputs": [
    {
     "name": "stdout",
     "output_type": "stream",
     "text": [
      "The number of arginines in human P1 is 24\n",
      "The number of arginines in bull P1 is 26\n",
      "The number of arginines in salmon is 20\n"
     ]
    }
   ],
   "source": [
    "print('The number of arginines in human P1 is',count_chars_arg('ARYRCCRSQSRSRYYRQRQRSRRRRRRSCQTRRRAMRCCRPRYRPRCRRH'))\n",
    "print('The number of arginines in bull P1 is',count_chars_arg('MARYRCCLTHSGSRCRRRRRRRCRRRRRRFGRRRRRRVCCRRYTVIRCTRQ'))\n",
    "print('The number of arginines in salmon is',count_chars_arg('MPRRRRSSSRPVRRRRRPRVSRRRRRRGGRRRR'))"
   ]
  },
  {
   "cell_type": "code",
   "execution_count": 3,
   "metadata": {},
   "outputs": [
    {
     "name": "stdout",
     "output_type": "stream",
     "text": [
      "The charge density in human P1 is 0.5\n",
      "The charge density in bull P1 is 0.5714285714285714\n",
      "The charge density in salmon is 0.6363636363636364\n"
     ]
    }
   ],
   "source": [
    "print('The charge density in human P1 is',count_charge('ARYRCCRSQSRSRYYRQRQRSRRRRRRSCQTRRRAMRCCRPRYRPRCRRH')/len('ARYRCCRSQSRSRYYRQRQRSRRRRRRSCQTRRRAMRCCRPRYRPRCRRH'))\n",
    "print('The charge density in bull P1 is',count_charge('ARYRCCLTHSGSRCRRRRRRRCRRRRRRFGRRRRRRVCCRRYTVIRCRR')/len('ARYRCCLTHSGSRCRRRRRRRCRRRRRRFGRRRRRRVCCRRYTVIRCRR'))\n",
    "print('The charge density in salmon is',count_charge('MPRRRRSSSRPVRRRRRPRVSRRRRRRGGRRRR')/len('MPRRRRSSSRPVRRRRRPRVSRRRRRRGGRRRR'))"
   ]
  },
  {
   "cell_type": "code",
   "execution_count": 16,
   "metadata": {},
   "outputs": [
    {
     "name": "stdout",
     "output_type": "stream",
     "text": [
      "The number of blocks in human P1 is [0, 1, 0, 1, 0, 0, 1, 0, 0, 0, 1, 0, 1, 0, 0, 1, 0, 1, 0, 1, 0, 6, 6, 6, 6, 6, 6, 0, 0, 0, 0, 3, 3, 3, 0, 0, 1, 0, 0, 1, 0, 1, 0, 1, 0, 1, 0, 2, 2, 0]\n",
      "The number of blocks in bull P1 is [0, 0, 1, 0, 1, 0, 0, 0, 0, 0, 0, 0, 0, 1, 0, 7, 7, 7, 7, 7, 7, 7, 0, 6, 6, 6, 6, 6, 6, 0, 0, 6, 6, 6, 6, 6, 6, 0, 0, 0, 2, 2, 0, 0, 0, 0, 1, 0, 0, 1, 0]\n",
      "The number of blocks in salmon is [0, 0, 4, 4, 4, 4, 0, 0, 0, 1, 0, 0, 5, 5, 5, 5, 5, 0, 1, 0, 0, 6, 6, 6, 6, 6, 6, 0, 0, 4, 4, 4, 4]\n"
     ]
    }
   ],
   "source": [
    "print('The number of blocks in human P1 is',count_arg_blocks('ARYRCCRSQSRSRYYRQRQRSRRRRRRSCQTRRRAMRCCRPRYRPRCRRH'))\n",
    "print('The number of blocks in bull P1 is',count_arg_blocks('MARYRCCLTHSGSRCRRRRRRRCRRRRRRFGRRRRRRVCCRRYTVIRCTRQ'))\n",
    "print('The number of blocks in salmon is',count_arg_blocks('MPRRRRSSSRPVRRRRRPRVSRRRRRRGGRRRR'))"
   ]
  },
  {
   "cell_type": "code",
   "execution_count": 9,
   "metadata": {},
   "outputs": [
    {
     "name": "stdout",
     "output_type": "stream",
     "text": [
      "Sequence Order parameters:\n",
      "P2a=  -0.03831417624521072\n",
      "Number of arginines:\n",
      "P2a=  27\n"
     ]
    }
   ],
   "source": [
    "p2a='RTHGQSHYRRRHCSRRRLHRIHRRQHRSCRRRKRRSCRHRRRHRRGCRTRKRTCRRH'\n",
    "print('Sequence Order parameters:')\n",
    "print('P2a= ', order_parameter(p2a))\n",
    "print('Number of arginines:')\n",
    "print('P2a= ',count_chars_arg(p2a))"
   ]
  },
  {
   "cell_type": "code",
   "execution_count": 14,
   "metadata": {},
   "outputs": [],
   "source": [
    "#protamine_sequence='MARYRCCRSRSRCRRRRRRCYRRRRRCCRRRRRRVCCRRYTVIRCRRR'\n",
    "#look at example in above line. protamine_sequence is a single sequence. \n",
    "def count_arg_blocks(protamine_sequence):\n",
    "    import numpy as np\n",
    "    arg_length=[]\n",
    "    i=0\n",
    "    j=0\n",
    "    k=1\n",
    "    while j<=len(protamine_sequence)-2 and k<=len(protamine_sequence):\n",
    "        if protamine_sequence[j]=='R' and protamine_sequence[j+1]=='R':\n",
    "            count_arg=0\n",
    "            i=j\n",
    "            while protamine_sequence[i]=='R':\n",
    "                count_arg=count_arg+1\n",
    "                i=i+1\n",
    "                if i>(len(protamine_sequence)-1):\n",
    "                        break\n",
    "            arg_length.extend([count_arg]*count_arg)\n",
    "            j=i\n",
    "        elif protamine_sequence[j]=='R' and protamine_sequence[j+1]!='R':\n",
    "            arg_length.append(1)\n",
    "            j=j+1\n",
    "        elif protamine_sequence[j]=='-':\n",
    "            arg_length.append(np.nan)\n",
    "            j=j+1\n",
    "        else:\n",
    "            arg_length.append(0)\n",
    "            j=j+1\n",
    "        k=k+1\n",
    "    if protamine_sequence[len(protamine_sequence)-1]=='R' and protamine_sequence[len(protamine_sequence)-2]!='R':\n",
    "        arg_length.append(1)\n",
    "#    elif protamine_sequence[len(protamine_sequence)-1]=='-' and protamine_sequence[len(protamine_sequence)-2]!='R':\n",
    "#        arg_length.append(np.nan)\n",
    "#    elif protamine_sequence[len(protamine_sequence)-1]=='-' and protamine_sequence[len(protamine_sequence)-2]=='R':\n",
    "#        arg_length.append(np.nan)\n",
    "#    elif protamine_sequence[len(protamine_sequence)-1]!='R' and protamine_sequence[len(protamine_sequence)-2]!='R' and protamine_sequence[len(protamine_sequence)-1]!='-':\n",
    "#        arg_length.append(0)\n",
    "    elif protamine_sequence[len(protamine_sequence)-1]=='-':\n",
    "        arg_length.append(np.nan)\n",
    "    elif protamine_sequence[len(protamine_sequence)-1]!='R':\n",
    "        arg_length.append(0)\n",
    "    return arg_length"
   ]
  },
  {
   "cell_type": "code",
   "execution_count": 15,
   "metadata": {},
   "outputs": [],
   "source": [
    "def count_block_length_number(protamine_sequence):\n",
    "    unique_nos=[]\n",
    "    k=0\n",
    "    for i in count_arg_blocks(protamine_sequence):\n",
    "        if i==1:\n",
    "            unique_nos.append(1)\n",
    "        elif i!=0 and i!=1 and k>0 and count_arg_blocks(protamine_sequence)[k-1]==0:\n",
    "            unique_nos.append(i)\n",
    "        elif i!=0 and i!=1 and k==0:\n",
    "            unique_nos.append(i)\n",
    "        k+=1\n",
    "    average_block_length=sum(unique_nos)/len(unique_nos)\n",
    "    total_no_of_blocks=len(unique_nos)\n",
    "    return average_block_length, total_no_of_blocks"
   ]
  },
  {
   "cell_type": "code",
   "execution_count": 18,
   "metadata": {},
   "outputs": [
    {
     "name": "stdout",
     "output_type": "stream",
     "text": [
      "In my human P1 sequence, the average block length: 1.5 and total # of blocks 16\n",
      "In my   salmon sequence, the average block length: 3.5 and total # of blocks 6\n",
      "In my  bull P1 sequence, the average block length: 3.0 and total # of blocks 9\n"
     ]
    }
   ],
   "source": [
    "print('In my human P1 sequence, the average block length:',count_block_length_number(human_p1)[0],'and total # of blocks',count_block_length_number(human_p1)[1])\n",
    "print('In my   salmon sequence, the average block length:',count_block_length_number(salmon)[0],'and total # of blocks',count_block_length_number(salmon)[1])\n",
    "print('In my  bull P1 sequence, the average block length:',format(count_block_length_number(bull_p1)[0],'0.1f'),'and total # of blocks',count_block_length_number(bull_p1)[1])"
   ]
  },
  {
   "cell_type": "code",
   "execution_count": null,
   "metadata": {},
   "outputs": [],
   "source": []
  }
 ],
 "metadata": {
  "kernelspec": {
   "display_name": "Python 3",
   "language": "python",
   "name": "python3"
  },
  "language_info": {
   "codemirror_mode": {
    "name": "ipython",
    "version": 3
   },
   "file_extension": ".py",
   "mimetype": "text/x-python",
   "name": "python",
   "nbconvert_exporter": "python",
   "pygments_lexer": "ipython3",
   "version": "3.7.0"
  }
 },
 "nbformat": 4,
 "nbformat_minor": 2
}
